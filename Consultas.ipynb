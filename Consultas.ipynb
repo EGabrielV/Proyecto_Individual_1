{
 "cells": [
  {
   "cell_type": "code",
   "execution_count": 1,
   "metadata": {},
   "outputs": [],
   "source": [
    "import pandas as pd"
   ]
  },
  {
   "cell_type": "markdown",
   "metadata": {},
   "source": [
    "Crearemos un dataset personalizado para nuestra funcion PlayTimeGenre. De esta manera se mejora el rendimiento de la API\n",
    "\n",
    "    def PlayTimeGenre( genero : str ): Debe devolver año con mas horas jugadas para dicho género."
   ]
  },
  {
   "cell_type": "code",
   "execution_count": 2,
   "metadata": {},
   "outputs": [],
   "source": [
    "#Importamos los datos limpios\n",
    "df_output_steam_games=pd.read_parquet('Dataset_Limpio/output_steam_games.parquet')\n",
    "df_user_items=pd.read_parquet('Dataset_Limpio/user_items.parquet')\n",
    "df_user_reviews=pd.read_parquet('Dataset_Limpio/user_reviews.parquet')"
   ]
  },
  {
   "cell_type": "code",
   "execution_count": 3,
   "metadata": {},
   "outputs": [],
   "source": [
    "#Para la tabla output\n",
    "df_Primer=df_output_steam_games.drop(['app_name', 'developer'],axis=1)\n",
    "#Para la tabla user_items\n",
    "df_Segundo=df_user_items.drop(['item_name','items_count'],axis=1)\n",
    "df_Primer['id']=df_Primer['id'].astype('Int64')\n",
    "#Las unimos\n",
    "merged_data=pd.merge(df_Segundo,df_Primer,left_on='item_id', right_on='id', how='inner')\n",
    "merged_data.drop(['item_id'], axis=1, inplace=True)"
   ]
  },
  {
   "cell_type": "code",
   "execution_count": 4,
   "metadata": {},
   "outputs": [],
   "source": [
    "#Transformo mi columna de array a str para poder agrupar\n",
    "merged_data['genres'] = merged_data['genres'].apply(lambda x: ', '.join(x))\n",
    "#Agrupamos por Id, y Genres\n",
    "merged_data=merged_data.groupby(['id', 'genres']).agg({\n",
    "    'playtime_forever': 'sum',\n",
    "    'año_lanzamiento': 'first',\n",
    "    'user_id': 'first'\n",
    "}).reset_index()"
   ]
  },
  {
   "cell_type": "code",
   "execution_count": 5,
   "metadata": {},
   "outputs": [],
   "source": [
    "#Dividimos la columna de generos en multiples dummies\n",
    "df_dummies=merged_data['genres'].str.replace(\"amp;\", \"\").str.get_dummies(', ')\n",
    "df_dummies = df_dummies.rename(columns=lambda x: x.strip(\"'\"))\n",
    "#Unimos los dummies con los demas datos\n",
    "df_dummies = pd.concat([df_dummies, merged_data[['playtime_forever', 'año_lanzamiento']]], axis=1)"
   ]
  },
  {
   "cell_type": "code",
   "execution_count": 6,
   "metadata": {},
   "outputs": [
    {
     "data": {
      "text/html": [
       "<div>\n",
       "<style scoped>\n",
       "    .dataframe tbody tr th:only-of-type {\n",
       "        vertical-align: middle;\n",
       "    }\n",
       "\n",
       "    .dataframe tbody tr th {\n",
       "        vertical-align: top;\n",
       "    }\n",
       "\n",
       "    .dataframe thead th {\n",
       "        text-align: right;\n",
       "    }\n",
       "</style>\n",
       "<table border=\"1\" class=\"dataframe\">\n",
       "  <thead>\n",
       "    <tr style=\"text-align: right;\">\n",
       "      <th></th>\n",
       "      <th>Action</th>\n",
       "      <th>Adventure</th>\n",
       "      <th>Animation &amp; Modeling</th>\n",
       "      <th>Audio Production</th>\n",
       "      <th>Casual</th>\n",
       "      <th>Design &amp; Illustration</th>\n",
       "      <th>Early Access</th>\n",
       "      <th>Education</th>\n",
       "      <th>Free to Play</th>\n",
       "      <th>Indie</th>\n",
       "      <th>...</th>\n",
       "      <th>Racing</th>\n",
       "      <th>Simulation</th>\n",
       "      <th>Software Training</th>\n",
       "      <th>Sports</th>\n",
       "      <th>Strategy</th>\n",
       "      <th>Utilities</th>\n",
       "      <th>Video Production</th>\n",
       "      <th>Web Publishing</th>\n",
       "      <th>playtime_forever</th>\n",
       "      <th>año_lanzamiento</th>\n",
       "    </tr>\n",
       "  </thead>\n",
       "  <tbody>\n",
       "    <tr>\n",
       "      <th>0</th>\n",
       "      <td>1</td>\n",
       "      <td>0</td>\n",
       "      <td>0</td>\n",
       "      <td>0</td>\n",
       "      <td>0</td>\n",
       "      <td>0</td>\n",
       "      <td>0</td>\n",
       "      <td>0</td>\n",
       "      <td>0</td>\n",
       "      <td>0</td>\n",
       "      <td>...</td>\n",
       "      <td>0</td>\n",
       "      <td>0</td>\n",
       "      <td>0</td>\n",
       "      <td>0</td>\n",
       "      <td>0</td>\n",
       "      <td>0</td>\n",
       "      <td>0</td>\n",
       "      <td>0</td>\n",
       "      <td>17107858</td>\n",
       "      <td>2000</td>\n",
       "    </tr>\n",
       "    <tr>\n",
       "      <th>1</th>\n",
       "      <td>1</td>\n",
       "      <td>0</td>\n",
       "      <td>0</td>\n",
       "      <td>0</td>\n",
       "      <td>0</td>\n",
       "      <td>0</td>\n",
       "      <td>0</td>\n",
       "      <td>0</td>\n",
       "      <td>0</td>\n",
       "      <td>0</td>\n",
       "      <td>...</td>\n",
       "      <td>0</td>\n",
       "      <td>0</td>\n",
       "      <td>0</td>\n",
       "      <td>0</td>\n",
       "      <td>0</td>\n",
       "      <td>0</td>\n",
       "      <td>0</td>\n",
       "      <td>0</td>\n",
       "      <td>960524</td>\n",
       "      <td>1999</td>\n",
       "    </tr>\n",
       "    <tr>\n",
       "      <th>2</th>\n",
       "      <td>1</td>\n",
       "      <td>0</td>\n",
       "      <td>0</td>\n",
       "      <td>0</td>\n",
       "      <td>0</td>\n",
       "      <td>0</td>\n",
       "      <td>0</td>\n",
       "      <td>0</td>\n",
       "      <td>0</td>\n",
       "      <td>0</td>\n",
       "      <td>...</td>\n",
       "      <td>0</td>\n",
       "      <td>0</td>\n",
       "      <td>0</td>\n",
       "      <td>0</td>\n",
       "      <td>0</td>\n",
       "      <td>0</td>\n",
       "      <td>0</td>\n",
       "      <td>0</td>\n",
       "      <td>756375</td>\n",
       "      <td>2003</td>\n",
       "    </tr>\n",
       "    <tr>\n",
       "      <th>3</th>\n",
       "      <td>1</td>\n",
       "      <td>0</td>\n",
       "      <td>0</td>\n",
       "      <td>0</td>\n",
       "      <td>0</td>\n",
       "      <td>0</td>\n",
       "      <td>0</td>\n",
       "      <td>0</td>\n",
       "      <td>0</td>\n",
       "      <td>0</td>\n",
       "      <td>...</td>\n",
       "      <td>0</td>\n",
       "      <td>0</td>\n",
       "      <td>0</td>\n",
       "      <td>0</td>\n",
       "      <td>0</td>\n",
       "      <td>0</td>\n",
       "      <td>0</td>\n",
       "      <td>0</td>\n",
       "      <td>154424</td>\n",
       "      <td>2001</td>\n",
       "    </tr>\n",
       "    <tr>\n",
       "      <th>4</th>\n",
       "      <td>1</td>\n",
       "      <td>0</td>\n",
       "      <td>0</td>\n",
       "      <td>0</td>\n",
       "      <td>0</td>\n",
       "      <td>0</td>\n",
       "      <td>0</td>\n",
       "      <td>0</td>\n",
       "      <td>0</td>\n",
       "      <td>0</td>\n",
       "      <td>...</td>\n",
       "      <td>0</td>\n",
       "      <td>0</td>\n",
       "      <td>0</td>\n",
       "      <td>0</td>\n",
       "      <td>0</td>\n",
       "      <td>0</td>\n",
       "      <td>0</td>\n",
       "      <td>0</td>\n",
       "      <td>726545</td>\n",
       "      <td>1999</td>\n",
       "    </tr>\n",
       "    <tr>\n",
       "      <th>...</th>\n",
       "      <td>...</td>\n",
       "      <td>...</td>\n",
       "      <td>...</td>\n",
       "      <td>...</td>\n",
       "      <td>...</td>\n",
       "      <td>...</td>\n",
       "      <td>...</td>\n",
       "      <td>...</td>\n",
       "      <td>...</td>\n",
       "      <td>...</td>\n",
       "      <td>...</td>\n",
       "      <td>...</td>\n",
       "      <td>...</td>\n",
       "      <td>...</td>\n",
       "      <td>...</td>\n",
       "      <td>...</td>\n",
       "      <td>...</td>\n",
       "      <td>...</td>\n",
       "      <td>...</td>\n",
       "      <td>...</td>\n",
       "      <td>...</td>\n",
       "    </tr>\n",
       "    <tr>\n",
       "      <th>8641</th>\n",
       "      <td>1</td>\n",
       "      <td>0</td>\n",
       "      <td>0</td>\n",
       "      <td>0</td>\n",
       "      <td>0</td>\n",
       "      <td>0</td>\n",
       "      <td>0</td>\n",
       "      <td>0</td>\n",
       "      <td>0</td>\n",
       "      <td>1</td>\n",
       "      <td>...</td>\n",
       "      <td>0</td>\n",
       "      <td>0</td>\n",
       "      <td>0</td>\n",
       "      <td>0</td>\n",
       "      <td>0</td>\n",
       "      <td>0</td>\n",
       "      <td>0</td>\n",
       "      <td>0</td>\n",
       "      <td>2</td>\n",
       "      <td>2016</td>\n",
       "    </tr>\n",
       "    <tr>\n",
       "      <th>8642</th>\n",
       "      <td>0</td>\n",
       "      <td>0</td>\n",
       "      <td>0</td>\n",
       "      <td>0</td>\n",
       "      <td>1</td>\n",
       "      <td>0</td>\n",
       "      <td>0</td>\n",
       "      <td>0</td>\n",
       "      <td>0</td>\n",
       "      <td>0</td>\n",
       "      <td>...</td>\n",
       "      <td>0</td>\n",
       "      <td>1</td>\n",
       "      <td>0</td>\n",
       "      <td>0</td>\n",
       "      <td>0</td>\n",
       "      <td>0</td>\n",
       "      <td>0</td>\n",
       "      <td>0</td>\n",
       "      <td>1</td>\n",
       "      <td>2016</td>\n",
       "    </tr>\n",
       "    <tr>\n",
       "      <th>8643</th>\n",
       "      <td>0</td>\n",
       "      <td>1</td>\n",
       "      <td>0</td>\n",
       "      <td>0</td>\n",
       "      <td>1</td>\n",
       "      <td>0</td>\n",
       "      <td>0</td>\n",
       "      <td>0</td>\n",
       "      <td>0</td>\n",
       "      <td>0</td>\n",
       "      <td>...</td>\n",
       "      <td>0</td>\n",
       "      <td>0</td>\n",
       "      <td>0</td>\n",
       "      <td>0</td>\n",
       "      <td>0</td>\n",
       "      <td>0</td>\n",
       "      <td>0</td>\n",
       "      <td>0</td>\n",
       "      <td>44</td>\n",
       "      <td>2016</td>\n",
       "    </tr>\n",
       "    <tr>\n",
       "      <th>8644</th>\n",
       "      <td>1</td>\n",
       "      <td>0</td>\n",
       "      <td>0</td>\n",
       "      <td>0</td>\n",
       "      <td>1</td>\n",
       "      <td>0</td>\n",
       "      <td>0</td>\n",
       "      <td>0</td>\n",
       "      <td>0</td>\n",
       "      <td>1</td>\n",
       "      <td>...</td>\n",
       "      <td>0</td>\n",
       "      <td>0</td>\n",
       "      <td>0</td>\n",
       "      <td>0</td>\n",
       "      <td>0</td>\n",
       "      <td>0</td>\n",
       "      <td>0</td>\n",
       "      <td>0</td>\n",
       "      <td>182</td>\n",
       "      <td>2016</td>\n",
       "    </tr>\n",
       "    <tr>\n",
       "      <th>8645</th>\n",
       "      <td>0</td>\n",
       "      <td>0</td>\n",
       "      <td>0</td>\n",
       "      <td>0</td>\n",
       "      <td>1</td>\n",
       "      <td>0</td>\n",
       "      <td>0</td>\n",
       "      <td>0</td>\n",
       "      <td>0</td>\n",
       "      <td>1</td>\n",
       "      <td>...</td>\n",
       "      <td>0</td>\n",
       "      <td>0</td>\n",
       "      <td>0</td>\n",
       "      <td>0</td>\n",
       "      <td>0</td>\n",
       "      <td>0</td>\n",
       "      <td>0</td>\n",
       "      <td>0</td>\n",
       "      <td>0</td>\n",
       "      <td>2016</td>\n",
       "    </tr>\n",
       "  </tbody>\n",
       "</table>\n",
       "<p>8646 rows × 23 columns</p>\n",
       "</div>"
      ],
      "text/plain": [
       "      Action  Adventure  Animation & Modeling  Audio Production  Casual  \\\n",
       "0          1          0                     0                 0       0   \n",
       "1          1          0                     0                 0       0   \n",
       "2          1          0                     0                 0       0   \n",
       "3          1          0                     0                 0       0   \n",
       "4          1          0                     0                 0       0   \n",
       "...      ...        ...                   ...               ...     ...   \n",
       "8641       1          0                     0                 0       0   \n",
       "8642       0          0                     0                 0       1   \n",
       "8643       0          1                     0                 0       1   \n",
       "8644       1          0                     0                 0       1   \n",
       "8645       0          0                     0                 0       1   \n",
       "\n",
       "      Design & Illustration  Early Access  Education  Free to Play  Indie  \\\n",
       "0                         0             0          0             0      0   \n",
       "1                         0             0          0             0      0   \n",
       "2                         0             0          0             0      0   \n",
       "3                         0             0          0             0      0   \n",
       "4                         0             0          0             0      0   \n",
       "...                     ...           ...        ...           ...    ...   \n",
       "8641                      0             0          0             0      1   \n",
       "8642                      0             0          0             0      0   \n",
       "8643                      0             0          0             0      0   \n",
       "8644                      0             0          0             0      1   \n",
       "8645                      0             0          0             0      1   \n",
       "\n",
       "      ...  Racing  Simulation  Software Training  Sports  Strategy  Utilities  \\\n",
       "0     ...       0           0                  0       0         0          0   \n",
       "1     ...       0           0                  0       0         0          0   \n",
       "2     ...       0           0                  0       0         0          0   \n",
       "3     ...       0           0                  0       0         0          0   \n",
       "4     ...       0           0                  0       0         0          0   \n",
       "...   ...     ...         ...                ...     ...       ...        ...   \n",
       "8641  ...       0           0                  0       0         0          0   \n",
       "8642  ...       0           1                  0       0         0          0   \n",
       "8643  ...       0           0                  0       0         0          0   \n",
       "8644  ...       0           0                  0       0         0          0   \n",
       "8645  ...       0           0                  0       0         0          0   \n",
       "\n",
       "      Video Production  Web Publishing  playtime_forever  año_lanzamiento  \n",
       "0                    0               0          17107858             2000  \n",
       "1                    0               0            960524             1999  \n",
       "2                    0               0            756375             2003  \n",
       "3                    0               0            154424             2001  \n",
       "4                    0               0            726545             1999  \n",
       "...                ...             ...               ...              ...  \n",
       "8641                 0               0                 2             2016  \n",
       "8642                 0               0                 1             2016  \n",
       "8643                 0               0                44             2016  \n",
       "8644                 0               0               182             2016  \n",
       "8645                 0               0                 0             2016  \n",
       "\n",
       "[8646 rows x 23 columns]"
      ]
     },
     "execution_count": 6,
     "metadata": {},
     "output_type": "execute_result"
    }
   ],
   "source": [
    "df_dummies"
   ]
  },
  {
   "cell_type": "code",
   "execution_count": 7,
   "metadata": {},
   "outputs": [],
   "source": [
    "#Definimos las columnas que no derretiremos\n",
    "columnas_no_dummies = ['playtime_forever','año_lanzamiento']\n",
    "\n",
    "# Aplicar melt al DataFrame para quedarnos con una sola fila\n",
    "df_melted = pd.melt(df_dummies, id_vars=columnas_no_dummies, var_name='dummy', value_name='valor_dummy')"
   ]
  },
  {
   "cell_type": "code",
   "execution_count": 8,
   "metadata": {},
   "outputs": [
    {
     "data": {
      "text/html": [
       "<div>\n",
       "<style scoped>\n",
       "    .dataframe tbody tr th:only-of-type {\n",
       "        vertical-align: middle;\n",
       "    }\n",
       "\n",
       "    .dataframe tbody tr th {\n",
       "        vertical-align: top;\n",
       "    }\n",
       "\n",
       "    .dataframe thead th {\n",
       "        text-align: right;\n",
       "    }\n",
       "</style>\n",
       "<table border=\"1\" class=\"dataframe\">\n",
       "  <thead>\n",
       "    <tr style=\"text-align: right;\">\n",
       "      <th></th>\n",
       "      <th>playtime_forever</th>\n",
       "      <th>año_lanzamiento</th>\n",
       "      <th>dummy</th>\n",
       "      <th>valor_dummy</th>\n",
       "    </tr>\n",
       "  </thead>\n",
       "  <tbody>\n",
       "    <tr>\n",
       "      <th>0</th>\n",
       "      <td>17107858</td>\n",
       "      <td>2000</td>\n",
       "      <td>Action</td>\n",
       "      <td>1</td>\n",
       "    </tr>\n",
       "    <tr>\n",
       "      <th>1</th>\n",
       "      <td>960524</td>\n",
       "      <td>1999</td>\n",
       "      <td>Action</td>\n",
       "      <td>1</td>\n",
       "    </tr>\n",
       "    <tr>\n",
       "      <th>2</th>\n",
       "      <td>756375</td>\n",
       "      <td>2003</td>\n",
       "      <td>Action</td>\n",
       "      <td>1</td>\n",
       "    </tr>\n",
       "    <tr>\n",
       "      <th>3</th>\n",
       "      <td>154424</td>\n",
       "      <td>2001</td>\n",
       "      <td>Action</td>\n",
       "      <td>1</td>\n",
       "    </tr>\n",
       "    <tr>\n",
       "      <th>4</th>\n",
       "      <td>726545</td>\n",
       "      <td>1999</td>\n",
       "      <td>Action</td>\n",
       "      <td>1</td>\n",
       "    </tr>\n",
       "    <tr>\n",
       "      <th>...</th>\n",
       "      <td>...</td>\n",
       "      <td>...</td>\n",
       "      <td>...</td>\n",
       "      <td>...</td>\n",
       "    </tr>\n",
       "    <tr>\n",
       "      <th>181561</th>\n",
       "      <td>2</td>\n",
       "      <td>2016</td>\n",
       "      <td>Web Publishing</td>\n",
       "      <td>0</td>\n",
       "    </tr>\n",
       "    <tr>\n",
       "      <th>181562</th>\n",
       "      <td>1</td>\n",
       "      <td>2016</td>\n",
       "      <td>Web Publishing</td>\n",
       "      <td>0</td>\n",
       "    </tr>\n",
       "    <tr>\n",
       "      <th>181563</th>\n",
       "      <td>44</td>\n",
       "      <td>2016</td>\n",
       "      <td>Web Publishing</td>\n",
       "      <td>0</td>\n",
       "    </tr>\n",
       "    <tr>\n",
       "      <th>181564</th>\n",
       "      <td>182</td>\n",
       "      <td>2016</td>\n",
       "      <td>Web Publishing</td>\n",
       "      <td>0</td>\n",
       "    </tr>\n",
       "    <tr>\n",
       "      <th>181565</th>\n",
       "      <td>0</td>\n",
       "      <td>2016</td>\n",
       "      <td>Web Publishing</td>\n",
       "      <td>0</td>\n",
       "    </tr>\n",
       "  </tbody>\n",
       "</table>\n",
       "<p>181566 rows × 4 columns</p>\n",
       "</div>"
      ],
      "text/plain": [
       "        playtime_forever  año_lanzamiento           dummy  valor_dummy\n",
       "0               17107858             2000          Action            1\n",
       "1                 960524             1999          Action            1\n",
       "2                 756375             2003          Action            1\n",
       "3                 154424             2001          Action            1\n",
       "4                 726545             1999          Action            1\n",
       "...                  ...              ...             ...          ...\n",
       "181561                 2             2016  Web Publishing            0\n",
       "181562                 1             2016  Web Publishing            0\n",
       "181563                44             2016  Web Publishing            0\n",
       "181564               182             2016  Web Publishing            0\n",
       "181565                 0             2016  Web Publishing            0\n",
       "\n",
       "[181566 rows x 4 columns]"
      ]
     },
     "execution_count": 8,
     "metadata": {},
     "output_type": "execute_result"
    }
   ],
   "source": [
    "df_melted"
   ]
  },
  {
   "cell_type": "code",
   "execution_count": 9,
   "metadata": {},
   "outputs": [
    {
     "name": "stderr",
     "output_type": "stream",
     "text": [
      "C:\\Users\\PC GABRIEL VERON\\AppData\\Local\\Temp\\ipykernel_5196\\3035692096.py:3: SettingWithCopyWarning: \n",
      "A value is trying to be set on a copy of a slice from a DataFrame\n",
      "\n",
      "See the caveats in the documentation: https://pandas.pydata.org/pandas-docs/stable/user_guide/indexing.html#returning-a-view-versus-a-copy\n",
      "  df_melted.drop('valor_dummy', inplace=True, axis=1)\n"
     ]
    },
    {
     "data": {
      "text/html": [
       "<div>\n",
       "<style scoped>\n",
       "    .dataframe tbody tr th:only-of-type {\n",
       "        vertical-align: middle;\n",
       "    }\n",
       "\n",
       "    .dataframe tbody tr th {\n",
       "        vertical-align: top;\n",
       "    }\n",
       "\n",
       "    .dataframe thead th {\n",
       "        text-align: right;\n",
       "    }\n",
       "</style>\n",
       "<table border=\"1\" class=\"dataframe\">\n",
       "  <thead>\n",
       "    <tr style=\"text-align: right;\">\n",
       "      <th></th>\n",
       "      <th>playtime_forever</th>\n",
       "      <th>año_lanzamiento</th>\n",
       "      <th>genre</th>\n",
       "    </tr>\n",
       "  </thead>\n",
       "  <tbody>\n",
       "    <tr>\n",
       "      <th>0</th>\n",
       "      <td>17107858</td>\n",
       "      <td>2000</td>\n",
       "      <td>Action</td>\n",
       "    </tr>\n",
       "    <tr>\n",
       "      <th>1</th>\n",
       "      <td>960524</td>\n",
       "      <td>1999</td>\n",
       "      <td>Action</td>\n",
       "    </tr>\n",
       "    <tr>\n",
       "      <th>2</th>\n",
       "      <td>756375</td>\n",
       "      <td>2003</td>\n",
       "      <td>Action</td>\n",
       "    </tr>\n",
       "    <tr>\n",
       "      <th>3</th>\n",
       "      <td>154424</td>\n",
       "      <td>2001</td>\n",
       "      <td>Action</td>\n",
       "    </tr>\n",
       "    <tr>\n",
       "      <th>4</th>\n",
       "      <td>726545</td>\n",
       "      <td>1999</td>\n",
       "      <td>Action</td>\n",
       "    </tr>\n",
       "    <tr>\n",
       "      <th>...</th>\n",
       "      <td>...</td>\n",
       "      <td>...</td>\n",
       "      <td>...</td>\n",
       "    </tr>\n",
       "    <tr>\n",
       "      <th>178924</th>\n",
       "      <td>186</td>\n",
       "      <td>2015</td>\n",
       "      <td>Web Publishing</td>\n",
       "    </tr>\n",
       "    <tr>\n",
       "      <th>179434</th>\n",
       "      <td>11058</td>\n",
       "      <td>2007</td>\n",
       "      <td>Web Publishing</td>\n",
       "    </tr>\n",
       "    <tr>\n",
       "      <th>181087</th>\n",
       "      <td>135</td>\n",
       "      <td>2016</td>\n",
       "      <td>Web Publishing</td>\n",
       "    </tr>\n",
       "    <tr>\n",
       "      <th>181111</th>\n",
       "      <td>1</td>\n",
       "      <td>2016</td>\n",
       "      <td>Web Publishing</td>\n",
       "    </tr>\n",
       "    <tr>\n",
       "      <th>181116</th>\n",
       "      <td>0</td>\n",
       "      <td>2016</td>\n",
       "      <td>Web Publishing</td>\n",
       "    </tr>\n",
       "  </tbody>\n",
       "</table>\n",
       "<p>21499 rows × 3 columns</p>\n",
       "</div>"
      ],
      "text/plain": [
       "        playtime_forever  año_lanzamiento           genre\n",
       "0               17107858             2000          Action\n",
       "1                 960524             1999          Action\n",
       "2                 756375             2003          Action\n",
       "3                 154424             2001          Action\n",
       "4                 726545             1999          Action\n",
       "...                  ...              ...             ...\n",
       "178924               186             2015  Web Publishing\n",
       "179434             11058             2007  Web Publishing\n",
       "181087               135             2016  Web Publishing\n",
       "181111                 1             2016  Web Publishing\n",
       "181116                 0             2016  Web Publishing\n",
       "\n",
       "[21499 rows x 3 columns]"
      ]
     },
     "execution_count": 9,
     "metadata": {},
     "output_type": "execute_result"
    }
   ],
   "source": [
    "#Nos quedamos con los valores dummies positivos\n",
    "df_melted=df_melted[df_melted['valor_dummy']==1]\n",
    "df_melted.drop('valor_dummy', inplace=True, axis=1)\n",
    "#Renombramos el encabezado\n",
    "df_melted=df_melted.rename(columns={'dummy':'genre'})\n",
    "df_melted"
   ]
  },
  {
   "cell_type": "code",
   "execution_count": 10,
   "metadata": {},
   "outputs": [],
   "source": [
    "#Hacemos una lista con los generos\n",
    "generos=df_melted['genre'].unique().tolist()"
   ]
  },
  {
   "cell_type": "code",
   "execution_count": 11,
   "metadata": {},
   "outputs": [],
   "source": [
    "#Generamos una lista que contenga los Años mas jugados por genero\n",
    "lista=[]\n",
    "for genero in generos:\n",
    "    #Nos quedamos con las filas del genero de interes\n",
    "    Tabla=df_melted[df_melted['genre']==genero].drop(columns=['genre'])\n",
    "    max_playtime_row = Tabla[Tabla['playtime_forever'] == Tabla['playtime_forever'].max()]  # Obtenemos la fila con el valor máximo de 'playtime_forever'\n",
    "    year = max_playtime_row['año_lanzamiento'].values[0]  # Obtenemos el valor de 'año_lanzamiento' para esa fila\n",
    "    lista.append([genero,year])"
   ]
  },
  {
   "cell_type": "code",
   "execution_count": 12,
   "metadata": {},
   "outputs": [],
   "source": [
    "#Cambiamos los encabezados de columnas y transformamos a dataframe para exportar\n",
    "lista=pd.DataFrame(lista)\n",
    "lista=lista.rename(columns={0:'genero', 1:'año_lanzamiento'})"
   ]
  },
  {
   "cell_type": "markdown",
   "metadata": {},
   "source": [
    "Exportamos el Dataset que consumirá la fucion PlayTimeGenre:"
   ]
  },
  {
   "cell_type": "code",
   "execution_count": 13,
   "metadata": {},
   "outputs": [],
   "source": [
    "import os\n",
    "if not os.path.exists('../Consultas'):\n",
    "    os.makedirs('../Consultas')"
   ]
  },
  {
   "cell_type": "code",
   "execution_count": 14,
   "metadata": {},
   "outputs": [],
   "source": [
    "#Exportamos la lista final para que sea consumida en la API\n",
    "lista.to_csv('../Consultas/Consulta1.csv', index=False)"
   ]
  },
  {
   "cell_type": "markdown",
   "metadata": {},
   "source": [
    "# Dataset para UserForGenre:\n",
    "def UserForGenre( genero : str ): Debe devolver el usuario que acumula más horas jugadas para el género dado y una lista de la acumulación de horas jugadas por año."
   ]
  },
  {
   "cell_type": "code",
   "execution_count": 15,
   "metadata": {},
   "outputs": [],
   "source": [
    "#Para la tabla output\n",
    "df_Primer=df_output_steam_games.drop(['app_name', 'developer'],axis=1)\n",
    "#Para la tabla user_items\n",
    "df_Segundo=df_user_items.drop(['item_name','items_count'],axis=1)\n",
    "df_Primer['id']=df_Primer['id'].astype('Int64')\n",
    "#Las unimos\n",
    "merged_data=pd.merge(df_Segundo,df_Primer,left_on='item_id', right_on='id', how='inner')\n",
    "merged_data.drop(['item_id'], axis=1, inplace=True)"
   ]
  },
  {
   "cell_type": "code",
   "execution_count": 16,
   "metadata": {},
   "outputs": [],
   "source": [
    "#Transformo mi columna de array a str para poder agrupar\n",
    "merged_data['genres'] = merged_data['genres'].apply(lambda x: ', '.join(x))\n",
    "#Agrupamos por user_id, y Genres\n",
    "merged_data=merged_data.groupby(['user_id', 'genres']).agg({\n",
    "    'playtime_forever': 'sum',\n",
    "    'año_lanzamiento': 'first',\n",
    "    'id': 'first'\n",
    "}).reset_index()"
   ]
  },
  {
   "cell_type": "code",
   "execution_count": 17,
   "metadata": {},
   "outputs": [],
   "source": [
    "#Dividimos la columna de generos en multiples dummies\n",
    "df_dummies=merged_data['genres'].str.replace(\"amp;\", \"\").str.get_dummies(', ')\n",
    "df_dummies = df_dummies.rename(columns=lambda x: x.strip(\"'\"))\n",
    "#Unimos los dummies con los demas datos\n",
    "df_dummies = pd.concat([df_dummies, merged_data[['playtime_forever', 'año_lanzamiento', 'id', 'user_id']]], axis=1)"
   ]
  },
  {
   "cell_type": "code",
   "execution_count": 18,
   "metadata": {},
   "outputs": [
    {
     "data": {
      "text/html": [
       "<div>\n",
       "<style scoped>\n",
       "    .dataframe tbody tr th:only-of-type {\n",
       "        vertical-align: middle;\n",
       "    }\n",
       "\n",
       "    .dataframe tbody tr th {\n",
       "        vertical-align: top;\n",
       "    }\n",
       "\n",
       "    .dataframe thead th {\n",
       "        text-align: right;\n",
       "    }\n",
       "</style>\n",
       "<table border=\"1\" class=\"dataframe\">\n",
       "  <thead>\n",
       "    <tr style=\"text-align: right;\">\n",
       "      <th></th>\n",
       "      <th>Action</th>\n",
       "      <th>Adventure</th>\n",
       "      <th>Animation &amp; Modeling</th>\n",
       "      <th>Audio Production</th>\n",
       "      <th>Casual</th>\n",
       "      <th>Design &amp; Illustration</th>\n",
       "      <th>Early Access</th>\n",
       "      <th>Education</th>\n",
       "      <th>Free to Play</th>\n",
       "      <th>Indie</th>\n",
       "      <th>...</th>\n",
       "      <th>Software Training</th>\n",
       "      <th>Sports</th>\n",
       "      <th>Strategy</th>\n",
       "      <th>Utilities</th>\n",
       "      <th>Video Production</th>\n",
       "      <th>Web Publishing</th>\n",
       "      <th>playtime_forever</th>\n",
       "      <th>año_lanzamiento</th>\n",
       "      <th>id</th>\n",
       "      <th>user_id</th>\n",
       "    </tr>\n",
       "  </thead>\n",
       "  <tbody>\n",
       "    <tr>\n",
       "      <th>0</th>\n",
       "      <td>1</td>\n",
       "      <td>0</td>\n",
       "      <td>0</td>\n",
       "      <td>0</td>\n",
       "      <td>0</td>\n",
       "      <td>0</td>\n",
       "      <td>0</td>\n",
       "      <td>0</td>\n",
       "      <td>0</td>\n",
       "      <td>0</td>\n",
       "      <td>...</td>\n",
       "      <td>0</td>\n",
       "      <td>0</td>\n",
       "      <td>0</td>\n",
       "      <td>0</td>\n",
       "      <td>0</td>\n",
       "      <td>0</td>\n",
       "      <td>115035</td>\n",
       "      <td>2009</td>\n",
       "      <td>1250</td>\n",
       "      <td>--000--</td>\n",
       "    </tr>\n",
       "  </tbody>\n",
       "</table>\n",
       "<p>1 rows × 25 columns</p>\n",
       "</div>"
      ],
      "text/plain": [
       "   Action  Adventure  Animation & Modeling  Audio Production  Casual  \\\n",
       "0       1          0                     0                 0       0   \n",
       "\n",
       "   Design & Illustration  Early Access  Education  Free to Play  Indie  ...  \\\n",
       "0                      0             0          0             0      0  ...   \n",
       "\n",
       "   Software Training  Sports  Strategy  Utilities  Video Production  \\\n",
       "0                  0       0         0          0                 0   \n",
       "\n",
       "   Web Publishing  playtime_forever  año_lanzamiento    id  user_id  \n",
       "0               0            115035             2009  1250  --000--  \n",
       "\n",
       "[1 rows x 25 columns]"
      ]
     },
     "execution_count": 18,
     "metadata": {},
     "output_type": "execute_result"
    }
   ],
   "source": [
    "df_dummies.head(1)"
   ]
  },
  {
   "cell_type": "code",
   "execution_count": 19,
   "metadata": {},
   "outputs": [],
   "source": [
    "#Definimos las columnas que no derretiremos\n",
    "columnas_no_dummies = ['playtime_forever','año_lanzamiento','id','user_id' ]\n",
    "\n",
    "# Aplicar melt al DataFrame para quedarnos con una sola fila\n",
    "df_melted = pd.melt(df_dummies, id_vars=columnas_no_dummies, var_name='dummy', value_name='valor_dummy')"
   ]
  },
  {
   "cell_type": "code",
   "execution_count": 20,
   "metadata": {},
   "outputs": [
    {
     "data": {
      "text/html": [
       "<div>\n",
       "<style scoped>\n",
       "    .dataframe tbody tr th:only-of-type {\n",
       "        vertical-align: middle;\n",
       "    }\n",
       "\n",
       "    .dataframe tbody tr th {\n",
       "        vertical-align: top;\n",
       "    }\n",
       "\n",
       "    .dataframe thead th {\n",
       "        text-align: right;\n",
       "    }\n",
       "</style>\n",
       "<table border=\"1\" class=\"dataframe\">\n",
       "  <thead>\n",
       "    <tr style=\"text-align: right;\">\n",
       "      <th></th>\n",
       "      <th>playtime_forever</th>\n",
       "      <th>año_lanzamiento</th>\n",
       "      <th>id</th>\n",
       "      <th>user_id</th>\n",
       "      <th>genre</th>\n",
       "    </tr>\n",
       "  </thead>\n",
       "  <tbody>\n",
       "    <tr>\n",
       "      <th>0</th>\n",
       "      <td>115035</td>\n",
       "      <td>2009</td>\n",
       "      <td>1250</td>\n",
       "      <td>--000--</td>\n",
       "      <td>Action</td>\n",
       "    </tr>\n",
       "    <tr>\n",
       "      <th>1</th>\n",
       "      <td>4037</td>\n",
       "      <td>2017</td>\n",
       "      <td>304930</td>\n",
       "      <td>--000--</td>\n",
       "      <td>Action</td>\n",
       "    </tr>\n",
       "    <tr>\n",
       "      <th>2</th>\n",
       "      <td>4260</td>\n",
       "      <td>2015</td>\n",
       "      <td>304050</td>\n",
       "      <td>--000--</td>\n",
       "      <td>Action</td>\n",
       "    </tr>\n",
       "    <tr>\n",
       "      <th>3</th>\n",
       "      <td>582</td>\n",
       "      <td>2014</td>\n",
       "      <td>238460</td>\n",
       "      <td>--000--</td>\n",
       "      <td>Action</td>\n",
       "    </tr>\n",
       "    <tr>\n",
       "      <th>4</th>\n",
       "      <td>1597</td>\n",
       "      <td>2012</td>\n",
       "      <td>204360</td>\n",
       "      <td>--000--</td>\n",
       "      <td>Action</td>\n",
       "    </tr>\n",
       "    <tr>\n",
       "      <th>...</th>\n",
       "      <td>...</td>\n",
       "      <td>...</td>\n",
       "      <td>...</td>\n",
       "      <td>...</td>\n",
       "      <td>...</td>\n",
       "    </tr>\n",
       "    <tr>\n",
       "      <th>35819269</th>\n",
       "      <td>37926</td>\n",
       "      <td>2012</td>\n",
       "      <td>220700</td>\n",
       "      <td>zepavil</td>\n",
       "      <td>Web Publishing</td>\n",
       "    </tr>\n",
       "    <tr>\n",
       "      <th>35819862</th>\n",
       "      <td>1</td>\n",
       "      <td>2007</td>\n",
       "      <td>400040</td>\n",
       "      <td>zeshirky</td>\n",
       "      <td>Web Publishing</td>\n",
       "    </tr>\n",
       "    <tr>\n",
       "      <th>35819922</th>\n",
       "      <td>4</td>\n",
       "      <td>2012</td>\n",
       "      <td>220700</td>\n",
       "      <td>zevlupine</td>\n",
       "      <td>Web Publishing</td>\n",
       "    </tr>\n",
       "    <tr>\n",
       "      <th>35820325</th>\n",
       "      <td>9</td>\n",
       "      <td>2013</td>\n",
       "      <td>227240</td>\n",
       "      <td>zilaman</td>\n",
       "      <td>Web Publishing</td>\n",
       "    </tr>\n",
       "    <tr>\n",
       "      <th>35820597</th>\n",
       "      <td>3</td>\n",
       "      <td>2013</td>\n",
       "      <td>227240</td>\n",
       "      <td>zipper559</td>\n",
       "      <td>Web Publishing</td>\n",
       "    </tr>\n",
       "  </tbody>\n",
       "</table>\n",
       "<p>5396289 rows × 5 columns</p>\n",
       "</div>"
      ],
      "text/plain": [
       "          playtime_forever  año_lanzamiento      id    user_id           genre\n",
       "0                   115035             2009    1250    --000--          Action\n",
       "1                     4037             2017  304930    --000--          Action\n",
       "2                     4260             2015  304050    --000--          Action\n",
       "3                      582             2014  238460    --000--          Action\n",
       "4                     1597             2012  204360    --000--          Action\n",
       "...                    ...              ...     ...        ...             ...\n",
       "35819269             37926             2012  220700    zepavil  Web Publishing\n",
       "35819862                 1             2007  400040   zeshirky  Web Publishing\n",
       "35819922                 4             2012  220700  zevlupine  Web Publishing\n",
       "35820325                 9             2013  227240    zilaman  Web Publishing\n",
       "35820597                 3             2013  227240  zipper559  Web Publishing\n",
       "\n",
       "[5396289 rows x 5 columns]"
      ]
     },
     "execution_count": 20,
     "metadata": {},
     "output_type": "execute_result"
    }
   ],
   "source": [
    "#Nos quedamos con los valores dummies positivos\n",
    "df_melted=df_melted[df_melted['valor_dummy']==1]\n",
    "df_melted.drop('valor_dummy', inplace=True, axis=1)\n",
    "#Renombramos el encabezado\n",
    "df_melted=df_melted.rename(columns={'dummy':'genre'})\n",
    "df_melted"
   ]
  },
  {
   "cell_type": "code",
   "execution_count": 21,
   "metadata": {},
   "outputs": [],
   "source": [
    "#Pasamos playtime_forever de minutos a horas\n",
    "df_melted['playtime_forever']=df_melted['playtime_forever']/60"
   ]
  },
  {
   "cell_type": "code",
   "execution_count": 22,
   "metadata": {},
   "outputs": [],
   "source": [
    "#Como ultimo paso generaremos una tabla con los resultados para cada genero\n",
    "#Para esto iteramos por genero\n",
    "respuestas=[]\n",
    "for genero in generos:\n",
    "    #Nos quedamos con las filas del genero de interes\n",
    "    Tabla=df_melted[df_melted['genre']==genero].drop(columns=['genre'])\n",
    "    #Hacemos una suma de horas para cada usuario\n",
    "    suma_playtime_por_usuario = Tabla.groupby('user_id')['playtime_forever'].sum().reset_index()\n",
    "    #Obtenemos el usuario con mas horas del genero\n",
    "    max_user=suma_playtime_por_usuario.loc[suma_playtime_por_usuario['playtime_forever'].idxmax(), 'user_id']\n",
    "    #Hacemos un dataframe con los datos de este usuario\n",
    "    df_usuario = Tabla[Tabla['user_id'] == max_user]\n",
    "    #Sumamos las horas de juego por Año\n",
    "    df_usuario=df_usuario.groupby('año_lanzamiento')['playtime_forever'].sum().reset_index()\n",
    "    lista=[]\n",
    "    for indice, fila in df_usuario.iterrows():\n",
    "        lista.append({'Año': fila['año_lanzamiento'], 'Horas': fila['playtime_forever']})\n",
    "    diccio={f\"Usuario con más horas jugadas para {genero}\" : max_user, 'Horas jugadas': lista}\n",
    "    respuestas.append({'genero':genero, 'respuesta': diccio})"
   ]
  },
  {
   "cell_type": "code",
   "execution_count": 23,
   "metadata": {},
   "outputs": [],
   "source": [
    "#Transformamos nuestra lista en un dataframe\n",
    "respuestas=pd.DataFrame(respuestas)\n"
   ]
  },
  {
   "cell_type": "code",
   "execution_count": 24,
   "metadata": {},
   "outputs": [],
   "source": [
    "#Exportamos\n",
    "respuestas.to_csv('../Consultas/Consulta2.csv', index=False)"
   ]
  },
  {
   "cell_type": "markdown",
   "metadata": {},
   "source": [
    "# Dataset para UsersRecommend"
   ]
  },
  {
   "cell_type": "markdown",
   "metadata": {},
   "source": [
    "def UsersRecommend( año : int ): Devuelve el top 3 de juegos MÁS recomendados por usuarios para el año dado. (reviews.recommend = True y comentarios positivos/neutrales)"
   ]
  },
  {
   "cell_type": "code",
   "execution_count": 25,
   "metadata": {},
   "outputs": [],
   "source": [
    "#Extraemos los valores que cumplen con las condiciones\n",
    "recomendados=df_user_reviews[(df_user_reviews['recommend']==True) & ((df_user_reviews['sentiment_analysis']==1) | (df_user_reviews['sentiment_analysis']==2))]"
   ]
  },
  {
   "cell_type": "code",
   "execution_count": 26,
   "metadata": {},
   "outputs": [
    {
     "name": "stderr",
     "output_type": "stream",
     "text": [
      "C:\\Users\\PC GABRIEL VERON\\AppData\\Local\\Temp\\ipykernel_5196\\1326853051.py:2: SettingWithCopyWarning: \n",
      "A value is trying to be set on a copy of a slice from a DataFrame\n",
      "\n",
      "See the caveats in the documentation: https://pandas.pydata.org/pandas-docs/stable/user_guide/indexing.html#returning-a-view-versus-a-copy\n",
      "  recomendados.drop(['recommend', 'sentiment_analysis'],inplace=True, axis=1)\n"
     ]
    }
   ],
   "source": [
    "#Quitamos columnas innecesarias\n",
    "recomendados.drop(['recommend', 'sentiment_analysis'],inplace=True, axis=1)"
   ]
  },
  {
   "cell_type": "code",
   "execution_count": 27,
   "metadata": {},
   "outputs": [],
   "source": [
    "#Hacemos lo mismo para el dataframe df_output_steam_games\n",
    "output_limpio=df_output_steam_games.drop(['genres', 'developer', 'año_lanzamiento'],axis=1)"
   ]
  },
  {
   "cell_type": "code",
   "execution_count": 28,
   "metadata": {},
   "outputs": [
    {
     "data": {
      "text/plain": [
       "app_name    0\n",
       "id          0\n",
       "dtype: int64"
      ]
     },
     "execution_count": 28,
     "metadata": {},
     "output_type": "execute_result"
    }
   ],
   "source": [
    "output_limpio.isnull().sum()"
   ]
  },
  {
   "cell_type": "code",
   "execution_count": 29,
   "metadata": {},
   "outputs": [],
   "source": [
    "#Los fucionamos\n",
    "merge = pd.merge(recomendados, output_limpio, left_on='item_id', right_on='id', how='left')\n",
    "#Quitamos las columnas que usamos para unir\n",
    "merge.drop(['item_id', 'user_id'],inplace=True, axis=1)"
   ]
  },
  {
   "cell_type": "code",
   "execution_count": 30,
   "metadata": {},
   "outputs": [
    {
     "data": {
      "text/plain": [
       "año            0\n",
       "app_name    6039\n",
       "id          6039\n",
       "dtype: int64"
      ]
     },
     "execution_count": 30,
     "metadata": {},
     "output_type": "execute_result"
    }
   ],
   "source": [
    "#Controlamos los id que no corresponden a ningun app_name    \n",
    "merge.isnull().sum()"
   ]
  },
  {
   "cell_type": "code",
   "execution_count": 31,
   "metadata": {},
   "outputs": [],
   "source": [
    "merge.dropna(inplace=True)"
   ]
  },
  {
   "cell_type": "code",
   "execution_count": 32,
   "metadata": {},
   "outputs": [],
   "source": [
    "#Exportamos\n",
    "merge.to_csv('../Consultas/Consulta3.csv', index=False)"
   ]
  },
  {
   "cell_type": "markdown",
   "metadata": {},
   "source": [
    "# Dataset para UsersWorstDeveloper"
   ]
  },
  {
   "cell_type": "markdown",
   "metadata": {},
   "source": [
    "def UsersWorstDeveloper( año : int ): Devuelve el top 3 de desarrolladoras con juegos MENOS recomendados por usuarios para el año dado. (reviews.recommend = False y comentarios negativos)"
   ]
  },
  {
   "cell_type": "code",
   "execution_count": 33,
   "metadata": {},
   "outputs": [
    {
     "data": {
      "text/plain": [
       "Index(['item_id', 'recommend', 'user_id', 'año', 'sentiment_analysis'], dtype='object')"
      ]
     },
     "execution_count": 33,
     "metadata": {},
     "output_type": "execute_result"
    }
   ],
   "source": [
    "df_user_reviews.columns"
   ]
  },
  {
   "cell_type": "code",
   "execution_count": 34,
   "metadata": {},
   "outputs": [],
   "source": [
    "#Traemos las review que nos importan\n",
    "recomendados=df_user_reviews[(df_user_reviews['recommend'] == False) & (df_user_reviews['sentiment_analysis'] == 0)]\n",
    "# Eliminamos las columnas innecesarias\n",
    "recomendados = recomendados.drop([ 'recommend', 'user_id','sentiment_analysis'], axis=1)"
   ]
  },
  {
   "cell_type": "code",
   "execution_count": 35,
   "metadata": {},
   "outputs": [],
   "source": [
    "#Hacemos lo mismo para el dataframe df_output_steam_games\n",
    "output_limpio=df_output_steam_games.drop(['genres', 'app_name', 'año_lanzamiento'],axis=1)"
   ]
  },
  {
   "cell_type": "code",
   "execution_count": 36,
   "metadata": {},
   "outputs": [],
   "source": [
    "#Los fucionamos\n",
    "merge = pd.merge(recomendados, output_limpio, left_on='item_id', right_on='id', how='left')\n",
    "#Quitamos las columnas que usamos para unir\n",
    "merge.drop(['item_id', 'id'],inplace=True, axis=1)"
   ]
  },
  {
   "cell_type": "code",
   "execution_count": 37,
   "metadata": {},
   "outputs": [
    {
     "data": {
      "text/plain": [
       "año            0\n",
       "developer    680\n",
       "dtype: int64"
      ]
     },
     "execution_count": 37,
     "metadata": {},
     "output_type": "execute_result"
    }
   ],
   "source": [
    "#Controlamos los id que no corresponden a ningun developer\n",
    "merge.isnull().sum()"
   ]
  },
  {
   "cell_type": "code",
   "execution_count": 38,
   "metadata": {},
   "outputs": [],
   "source": [
    "#Dropeamos los nulos\n",
    "merge.dropna(inplace=True)"
   ]
  },
  {
   "cell_type": "code",
   "execution_count": 39,
   "metadata": {},
   "outputs": [],
   "source": [
    "#Exportamos\n",
    "merge.to_csv('../Consultas/Consulta4.csv', index=False)"
   ]
  },
  {
   "cell_type": "markdown",
   "metadata": {},
   "source": [
    "# Dataset para sentiment_analysis"
   ]
  },
  {
   "cell_type": "markdown",
   "metadata": {},
   "source": [
    "def sentiment_analysis( empresa desarrolladora : str ): Según la empresa desarrolladora, se devuelve un diccionario con el nombre de la desarrolladora como llave y una lista con la cantidad total de registros de reseñas de usuarios que se encuentren categorizados con un análisis de sentimiento como valor."
   ]
  },
  {
   "cell_type": "markdown",
   "metadata": {},
   "source": [
    "Ejemplo de retorno: {'Valve' : [Negative = 182, Neutral = 120, Positive = 278]}"
   ]
  },
  {
   "cell_type": "code",
   "execution_count": 40,
   "metadata": {},
   "outputs": [],
   "source": [
    "#Eliminamos columnas innecesarias\n",
    "sentimientos=df_user_reviews.drop(['recommend', 'user_id', 'año'], axis=1)"
   ]
  },
  {
   "cell_type": "code",
   "execution_count": 41,
   "metadata": {},
   "outputs": [],
   "source": [
    "#Limpiamos df_output_steam_games\n",
    "output_limpio = df_output_steam_games.loc[:, ['id', 'developer']]"
   ]
  },
  {
   "cell_type": "code",
   "execution_count": 42,
   "metadata": {},
   "outputs": [],
   "source": [
    "#Unimos ambas tablas\n",
    "merge=pd.merge(sentimientos, output_limpio, left_on='item_id', right_on='id', how='inner')\n",
    "#Eliminamos las columnas que usamos para unir\n",
    "merge.drop(['id','item_id'],inplace=True, axis=1)"
   ]
  },
  {
   "cell_type": "code",
   "execution_count": 43,
   "metadata": {},
   "outputs": [],
   "source": [
    "#Obtenemos dummies para cada valor de sentimiento\n",
    "df_dummies=pd.get_dummies(merge['sentiment_analysis'], dummy_na=False)\n",
    "df_dummies=df_dummies.astype(int) #Los hacemos int para sumarlos\n",
    "#Y unimos a la tabla original\n",
    "df=pd.concat([df_dummies, merge], axis=1).drop(['sentiment_analysis'], axis=1)"
   ]
  },
  {
   "cell_type": "code",
   "execution_count": 44,
   "metadata": {},
   "outputs": [],
   "source": [
    "#Renombramos las columnas\n",
    "df.rename(columns={0:'Negative', 1:'Neutral', 2:'Positive'}, inplace=True)\n",
    "#Agrupamos sumando\n",
    "resultado=df.groupby('developer').agg({\n",
    "    'Negative':'sum',\n",
    "    'Neutral':'sum',\n",
    "    'Positive':'sum'\n",
    "}).reset_index()"
   ]
  },
  {
   "cell_type": "code",
   "execution_count": 45,
   "metadata": {},
   "outputs": [],
   "source": [
    "#Teniendo la tabla de resultados\n",
    "#La exportamos para la API\n",
    "resultado.to_csv('../Consultas/Consulta5.csv', index=False)"
   ]
  },
  {
   "cell_type": "markdown",
   "metadata": {},
   "source": [
    "# Dataset para recomendacion_juego"
   ]
  },
  {
   "cell_type": "markdown",
   "metadata": {},
   "source": [
    "def recomendacion_juego( id de producto ): Ingresando el id de producto, deberíamos recibir una lista con 5 juegos recomendados similares al ingresado."
   ]
  },
  {
   "cell_type": "code",
   "execution_count": 46,
   "metadata": {},
   "outputs": [],
   "source": [
    "#Creamos un dataframe de todos los juegos para alimentar nuestro ML\n",
    "#Nos quedamos con las columnas de interes\n",
    "df_Juegos=df_output_steam_games[['genres', 'app_name', 'id']]"
   ]
  },
  {
   "cell_type": "code",
   "execution_count": 51,
   "metadata": {},
   "outputs": [
    {
     "name": "stderr",
     "output_type": "stream",
     "text": [
      "C:\\Users\\PC GABRIEL VERON\\AppData\\Local\\Temp\\ipykernel_5196\\1400495791.py:4: SettingWithCopyWarning: \n",
      "A value is trying to be set on a copy of a slice from a DataFrame.\n",
      "Try using .loc[row_indexer,col_indexer] = value instead\n",
      "\n",
      "See the caveats in the documentation: https://pandas.pydata.org/pandas-docs/stable/user_guide/indexing.html#returning-a-view-versus-a-copy\n",
      "  df_Juegos['genres']=df_Juegos['genres'].apply(lambda x: ', '.join(x))\n",
      "C:\\Users\\PC GABRIEL VERON\\AppData\\Local\\Temp\\ipykernel_5196\\1400495791.py:5: SettingWithCopyWarning: \n",
      "A value is trying to be set on a copy of a slice from a DataFrame\n",
      "\n",
      "See the caveats in the documentation: https://pandas.pydata.org/pandas-docs/stable/user_guide/indexing.html#returning-a-view-versus-a-copy\n",
      "  df_Juegos.drop_duplicates(inplace=True)\n"
     ]
    },
    {
     "data": {
      "text/html": [
       "<style>#sk-container-id-1 {color: black;}#sk-container-id-1 pre{padding: 0;}#sk-container-id-1 div.sk-toggleable {background-color: white;}#sk-container-id-1 label.sk-toggleable__label {cursor: pointer;display: block;width: 100%;margin-bottom: 0;padding: 0.3em;box-sizing: border-box;text-align: center;}#sk-container-id-1 label.sk-toggleable__label-arrow:before {content: \"▸\";float: left;margin-right: 0.25em;color: #696969;}#sk-container-id-1 label.sk-toggleable__label-arrow:hover:before {color: black;}#sk-container-id-1 div.sk-estimator:hover label.sk-toggleable__label-arrow:before {color: black;}#sk-container-id-1 div.sk-toggleable__content {max-height: 0;max-width: 0;overflow: hidden;text-align: left;background-color: #f0f8ff;}#sk-container-id-1 div.sk-toggleable__content pre {margin: 0.2em;color: black;border-radius: 0.25em;background-color: #f0f8ff;}#sk-container-id-1 input.sk-toggleable__control:checked~div.sk-toggleable__content {max-height: 200px;max-width: 100%;overflow: auto;}#sk-container-id-1 input.sk-toggleable__control:checked~label.sk-toggleable__label-arrow:before {content: \"▾\";}#sk-container-id-1 div.sk-estimator input.sk-toggleable__control:checked~label.sk-toggleable__label {background-color: #d4ebff;}#sk-container-id-1 div.sk-label input.sk-toggleable__control:checked~label.sk-toggleable__label {background-color: #d4ebff;}#sk-container-id-1 input.sk-hidden--visually {border: 0;clip: rect(1px 1px 1px 1px);clip: rect(1px, 1px, 1px, 1px);height: 1px;margin: -1px;overflow: hidden;padding: 0;position: absolute;width: 1px;}#sk-container-id-1 div.sk-estimator {font-family: monospace;background-color: #f0f8ff;border: 1px dotted black;border-radius: 0.25em;box-sizing: border-box;margin-bottom: 0.5em;}#sk-container-id-1 div.sk-estimator:hover {background-color: #d4ebff;}#sk-container-id-1 div.sk-parallel-item::after {content: \"\";width: 100%;border-bottom: 1px solid gray;flex-grow: 1;}#sk-container-id-1 div.sk-label:hover label.sk-toggleable__label {background-color: #d4ebff;}#sk-container-id-1 div.sk-serial::before {content: \"\";position: absolute;border-left: 1px solid gray;box-sizing: border-box;top: 0;bottom: 0;left: 50%;z-index: 0;}#sk-container-id-1 div.sk-serial {display: flex;flex-direction: column;align-items: center;background-color: white;padding-right: 0.2em;padding-left: 0.2em;position: relative;}#sk-container-id-1 div.sk-item {position: relative;z-index: 1;}#sk-container-id-1 div.sk-parallel {display: flex;align-items: stretch;justify-content: center;background-color: white;position: relative;}#sk-container-id-1 div.sk-item::before, #sk-container-id-1 div.sk-parallel-item::before {content: \"\";position: absolute;border-left: 1px solid gray;box-sizing: border-box;top: 0;bottom: 0;left: 50%;z-index: -1;}#sk-container-id-1 div.sk-parallel-item {display: flex;flex-direction: column;z-index: 1;position: relative;background-color: white;}#sk-container-id-1 div.sk-parallel-item:first-child::after {align-self: flex-end;width: 50%;}#sk-container-id-1 div.sk-parallel-item:last-child::after {align-self: flex-start;width: 50%;}#sk-container-id-1 div.sk-parallel-item:only-child::after {width: 0;}#sk-container-id-1 div.sk-dashed-wrapped {border: 1px dashed gray;margin: 0 0.4em 0.5em 0.4em;box-sizing: border-box;padding-bottom: 0.4em;background-color: white;}#sk-container-id-1 div.sk-label label {font-family: monospace;font-weight: bold;display: inline-block;line-height: 1.2em;}#sk-container-id-1 div.sk-label-container {text-align: center;}#sk-container-id-1 div.sk-container {/* jupyter's `normalize.less` sets `[hidden] { display: none; }` but bootstrap.min.css set `[hidden] { display: none !important; }` so we also need the `!important` here to be able to override the default hidden behavior on the sphinx rendered scikit-learn.org. See: https://github.com/scikit-learn/scikit-learn/issues/21755 */display: inline-block !important;position: relative;}#sk-container-id-1 div.sk-text-repr-fallback {display: none;}</style><div id=\"sk-container-id-1\" class=\"sk-top-container\"><div class=\"sk-text-repr-fallback\"><pre>NearestNeighbors(metric=&#x27;cosine&#x27;)</pre><b>In a Jupyter environment, please rerun this cell to show the HTML representation or trust the notebook. <br />On GitHub, the HTML representation is unable to render, please try loading this page with nbviewer.org.</b></div><div class=\"sk-container\" hidden><div class=\"sk-item\"><div class=\"sk-estimator sk-toggleable\"><input class=\"sk-toggleable__control sk-hidden--visually\" id=\"sk-estimator-id-1\" type=\"checkbox\" checked><label for=\"sk-estimator-id-1\" class=\"sk-toggleable__label sk-toggleable__label-arrow\">NearestNeighbors</label><div class=\"sk-toggleable__content\"><pre>NearestNeighbors(metric=&#x27;cosine&#x27;)</pre></div></div></div></div></div>"
      ],
      "text/plain": [
       "NearestNeighbors(metric='cosine')"
      ]
     },
     "execution_count": 51,
     "metadata": {},
     "output_type": "execute_result"
    }
   ],
   "source": [
    "from sklearn.neighbors import NearestNeighbors\n",
    "\n",
    "#Pasamos a str la columna genres\n",
    "df_Juegos['genres']=df_Juegos['genres'].apply(lambda x: ', '.join(x))\n",
    "df_Juegos.drop_duplicates(inplace=True)\n",
    "#Reseteamos indices\n",
    "df_Juegos.reset_index(inplace=True)\n",
    "\n",
    "#Para poder generar los dummies\n",
    "df_dummies=df_Juegos['genres'].str.replace(\"amp;\", \"\").str.get_dummies(', ')\n",
    "\n",
    "# Inicializar el modelo de Nearest Neighbors\n",
    "nn_model = NearestNeighbors(n_neighbors=5, metric='cosine')  #Ajustamos a 5 vecinos y la métrica a similitud de coseno\n",
    "\n",
    "# Transformamos a matriz\n",
    "data_matrix = df_dummies.values\n",
    "# Entrenamos el modelo\n",
    "nn_model.fit(data_matrix)"
   ]
  },
  {
   "cell_type": "code",
   "execution_count": 52,
   "metadata": {},
   "outputs": [],
   "source": [
    "#Ahora iteramos para obtener el dataset de salida\n",
    "Salida={}\n",
    "for id in df_Juegos['id']:\n",
    "    app_index = df_Juegos[df_Juegos['id'] == id].index[0]\n",
    "    app_vector = data_matrix[app_index].reshape(1, -1)\n",
    "\n",
    "    # Encontrar los vecinos más cercanos\n",
    "    distances, indices = nn_model.kneighbors(app_vector)\n",
    "    #Los agregamos a la Salida\n",
    "    for i, index in enumerate(indices.flatten()):\n",
    "        if index != app_index:\n",
    "            lista = df_Juegos.iloc[indices.flatten()]['app_name'].tolist()\n",
    "            Salida.update({id:lista})"
   ]
  },
  {
   "cell_type": "code",
   "execution_count": 55,
   "metadata": {},
   "outputs": [],
   "source": [
    "#Transformamos a DataFrame\n",
    "df_Salida = pd.DataFrame(list(Salida.items()), columns=['id', 'recomendaciones'])\n",
    "\n",
    "#Exportamos para su consumo\n",
    "df_Salida.to_csv('../Consultas/Consulta6.csv', index=False)"
   ]
  }
 ],
 "metadata": {
  "kernelspec": {
   "display_name": "Python 3",
   "language": "python",
   "name": "python3"
  },
  "language_info": {
   "codemirror_mode": {
    "name": "ipython",
    "version": 3
   },
   "file_extension": ".py",
   "mimetype": "text/x-python",
   "name": "python",
   "nbconvert_exporter": "python",
   "pygments_lexer": "ipython3",
   "version": "3.11.6"
  }
 },
 "nbformat": 4,
 "nbformat_minor": 2
}
