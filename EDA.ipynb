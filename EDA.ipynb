{
 "cells": [
  {
   "cell_type": "code",
   "execution_count": 1,
   "metadata": {},
   "outputs": [],
   "source": [
    "import pandas as pd\n",
    "import plotly.express as px\n",
    "import matplotlib.pyplot as plt\n",
    "#Estilo de graficas de matplotlib:\n",
    "plt.style.use('dark_background')\n",
    "#Color de fondo\n",
    "plt.rcParams['figure.facecolor'] = (31/255, 31/255, 31/255)\n",
    "# Cambiar a colores oscuros plotly\n",
    "dark_colors = px.colors.qualitative.Dark24\n",
    "\n",
    "\n",
    "output_steam_games=pd.read_parquet('Dataset_Limpio/output_steam_games.parquet')\n",
    "user_items=pd.read_parquet('Dataset_Limpio/user_items.parquet')\n",
    "user_reviews=pd.read_parquet('Dataset_Limpio/user_reviews.parquet')"
   ]
  },
  {
   "cell_type": "code",
   "execution_count": null,
   "metadata": {},
   "outputs": [],
   "source": [
    "pip install plotly"
   ]
  },
  {
   "cell_type": "markdown",
   "metadata": {},
   "source": [
    "# Veamos la distribucion de juegos por genero y año"
   ]
  },
  {
   "cell_type": "code",
   "execution_count": 3,
   "metadata": {},
   "outputs": [],
   "source": [
    "# Crear una lista de diccionarios para cada combinación de género y año\n",
    "genre_year_list = [{'game_name': game, 'genre': genre, 'año_lanzamiento': year}\n",
    "                   for game, genres, year in zip(output_steam_games['app_name'], output_steam_games['genres'], output_steam_games['año_lanzamiento'])\n",
    "                   for genre in genres]\n",
    "\n",
    "# Crear un DataFrame a partir de la lista de diccionarios\n",
    "genres_df = pd.DataFrame(genre_year_list)\n",
    "\n",
    "# Contar la frecuencia de cada género por año\n",
    "genre_counts_by_year = genres_df.groupby(['año_lanzamiento', 'genre']).size().reset_index(name='count')"
   ]
  },
  {
   "cell_type": "code",
   "execution_count": 4,
   "metadata": {},
   "outputs": [],
   "source": [
    "# Crear el treemap\n",
    "fig = px.treemap(genre_counts_by_year, \n",
    "                 path=['genre','año_lanzamiento'], \n",
    "                 values='count',\n",
    "                 title='Juegos por Genero y Año',\n",
    "                 color_discrete_sequence=px.colors.qualitative.Set3,  # Paleta de colores específica\n",
    "                 width=800, height=600)\n"
   ]
  },
  {
   "cell_type": "code",
   "execution_count": 5,
   "metadata": {},
   "outputs": [
    {
     "data": {
      "application/vnd.plotly.v1+json": {
       "config": {
        "plotlyServerURL": "https://plot.ly"
       },
       "data": [
        {
         "branchvalues": "total",
         "domain": {
          "x": [
           0,
           1
          ],
          "y": [
           0,
           1
          ]
         },
         "hovertemplate": "labels=%{label}<br>count=%{value}<br>parent=%{parent}<br>id=%{id}<extra></extra>",
         "ids": [
          "Action/1983",
          "Adventure/1983",
          "Casual/1983",
          "Action/1984",
          "Adventure/1984",
          "Casual/1984",
          "Indie/1984",
          "Simulation/1985",
          "Adventure/1986",
          "Casual/1986",
          "Indie/1986",
          "RPG/1986",
          "Simulation/1986",
          "Adventure/1987",
          "Simulation/1987",
          "Action/1988",
          "Adventure/1988",
          "Indie/1988",
          "RPG/1988",
          "Simulation/1988",
          "Strategy/1988",
          "Action/1989",
          "Adventure/1989",
          "RPG/1989",
          "Simulation/1989",
          "Action/1990",
          "Adventure/1990",
          "RPG/1990",
          "Simulation/1990",
          "Strategy/1990",
          "Action/1991",
          "Adventure/1991",
          "Casual/1991",
          "RPG/1991",
          "Simulation/1991",
          "Strategy/1991",
          "Action/1992",
          "Adventure/1992",
          "Casual/1992",
          "Indie/1992",
          "RPG/1992",
          "Simulation/1992",
          "Strategy/1992",
          "Action/1993",
          "Adventure/1993",
          "Casual/1993",
          "RPG/1993",
          "Simulation/1993",
          "Strategy/1993",
          "Action/1994",
          "Adventure/1994",
          "Casual/1994",
          "Indie/1994",
          "RPG/1994",
          "Racing/1994",
          "Simulation/1994",
          "Strategy/1994",
          "Action/1995",
          "Adventure/1995",
          "Casual/1995",
          "Indie/1995",
          "RPG/1995",
          "Racing/1995",
          "Simulation/1995",
          "Sports/1995",
          "Strategy/1995",
          "Action/1996",
          "Adventure/1996",
          "Casual/1996",
          "Free to Play/1996",
          "Indie/1996",
          "RPG/1996",
          "Racing/1996",
          "Simulation/1996",
          "Sports/1996",
          "Strategy/1996",
          "Action/1997",
          "Adventure/1997",
          "Casual/1997",
          "Indie/1997",
          "RPG/1997",
          "Racing/1997",
          "Simulation/1997",
          "Sports/1997",
          "Strategy/1997",
          "Action/1998",
          "Adventure/1998",
          "Casual/1998",
          "Indie/1998",
          "RPG/1998",
          "Racing/1998",
          "Simulation/1998",
          "Strategy/1998",
          "Action/1999",
          "Adventure/1999",
          "Casual/1999",
          "Free to Play/1999",
          "Indie/1999",
          "Massively Multiplayer/1999",
          "RPG/1999",
          "Racing/1999",
          "Simulation/1999",
          "Sports/1999",
          "Strategy/1999",
          "Action/2000",
          "Adventure/2000",
          "Casual/2000",
          "Indie/2000",
          "RPG/2000",
          "Racing/2000",
          "Simulation/2000",
          "Strategy/2000",
          "Action/2001",
          "Adventure/2001",
          "Casual/2001",
          "Early Access/2001",
          "Free to Play/2001",
          "Indie/2001",
          "Massively Multiplayer/2001",
          "RPG/2001",
          "Simulation/2001",
          "Strategy/2001",
          "Action/2002",
          "Adventure/2002",
          "Casual/2002",
          "Indie/2002",
          "RPG/2002",
          "Simulation/2002",
          "Sports/2002",
          "Strategy/2002",
          "Action/2003",
          "Adventure/2003",
          "Casual/2003",
          "Free to Play/2003",
          "Indie/2003",
          "Massively Multiplayer/2003",
          "RPG/2003",
          "Racing/2003",
          "Simulation/2003",
          "Strategy/2003",
          "Action/2004",
          "Adventure/2004",
          "Casual/2004",
          "Free to Play/2004",
          "Indie/2004",
          "RPG/2004",
          "Racing/2004",
          "Simulation/2004",
          "Strategy/2004",
          "Action/2005",
          "Adventure/2005",
          "Casual/2005",
          "Free to Play/2005",
          "Indie/2005",
          "Massively Multiplayer/2005",
          "RPG/2005",
          "Racing/2005",
          "Simulation/2005",
          "Sports/2005",
          "Strategy/2005",
          "Web Publishing/2005",
          "Action/2006",
          "Adventure/2006",
          "Casual/2006",
          "Free to Play/2006",
          "Indie/2006",
          "Massively Multiplayer/2006",
          "Photo Editing/2006",
          "RPG/2006",
          "Racing/2006",
          "Simulation/2006",
          "Sports/2006",
          "Strategy/2006",
          "Utilities/2006",
          "Video Production/2006",
          "Action/2007",
          "Adventure/2007",
          "Audio Production/2007",
          "Casual/2007",
          "Design &amp; Illustration/2007",
          "Free to Play/2007",
          "Indie/2007",
          "Massively Multiplayer/2007",
          "Photo Editing/2007",
          "RPG/2007",
          "Racing/2007",
          "Simulation/2007",
          "Sports/2007",
          "Strategy/2007",
          "Utilities/2007",
          "Video Production/2007",
          "Web Publishing/2007",
          "Action/2008",
          "Adventure/2008",
          "Animation &amp; Modeling/2008",
          "Casual/2008",
          "Design &amp; Illustration/2008",
          "Education/2008",
          "Free to Play/2008",
          "Indie/2008",
          "Massively Multiplayer/2008",
          "RPG/2008",
          "Racing/2008",
          "Simulation/2008",
          "Software Training/2008",
          "Sports/2008",
          "Strategy/2008",
          "Utilities/2008",
          "Web Publishing/2008",
          "Action/2009",
          "Adventure/2009",
          "Casual/2009",
          "Free to Play/2009",
          "Indie/2009",
          "Massively Multiplayer/2009",
          "RPG/2009",
          "Racing/2009",
          "Simulation/2009",
          "Sports/2009",
          "Strategy/2009",
          "Utilities/2009",
          "Action/2010",
          "Adventure/2010",
          "Casual/2010",
          "Education/2010",
          "Free to Play/2010",
          "Indie/2010",
          "Massively Multiplayer/2010",
          "RPG/2010",
          "Racing/2010",
          "Simulation/2010",
          "Software Training/2010",
          "Sports/2010",
          "Strategy/2010",
          "Action/2011",
          "Adventure/2011",
          "Casual/2011",
          "Free to Play/2011",
          "Indie/2011",
          "Massively Multiplayer/2011",
          "RPG/2011",
          "Racing/2011",
          "Simulation/2011",
          "Sports/2011",
          "Strategy/2011",
          "Action/2012",
          "Adventure/2012",
          "Animation &amp; Modeling/2012",
          "Casual/2012",
          "Design &amp; Illustration/2012",
          "Early Access/2012",
          "Free to Play/2012",
          "Indie/2012",
          "Massively Multiplayer/2012",
          "Photo Editing/2012",
          "RPG/2012",
          "Racing/2012",
          "Simulation/2012",
          "Sports/2012",
          "Strategy/2012",
          "Utilities/2012",
          "Video Production/2012",
          "Web Publishing/2012",
          "Action/2013",
          "Adventure/2013",
          "Animation &amp; Modeling/2013",
          "Audio Production/2013",
          "Casual/2013",
          "Design &amp; Illustration/2013",
          "Early Access/2013",
          "Education/2013",
          "Free to Play/2013",
          "Indie/2013",
          "Massively Multiplayer/2013",
          "RPG/2013",
          "Racing/2013",
          "Simulation/2013",
          "Software Training/2013",
          "Sports/2013",
          "Strategy/2013",
          "Utilities/2013",
          "Video Production/2013",
          "Web Publishing/2013",
          "Action/2014",
          "Adventure/2014",
          "Animation &amp; Modeling/2014",
          "Audio Production/2014",
          "Casual/2014",
          "Design &amp; Illustration/2014",
          "Early Access/2014",
          "Education/2014",
          "Free to Play/2014",
          "Indie/2014",
          "Massively Multiplayer/2014",
          "Photo Editing/2014",
          "RPG/2014",
          "Racing/2014",
          "Simulation/2014",
          "Software Training/2014",
          "Sports/2014",
          "Strategy/2014",
          "Utilities/2014",
          "Video Production/2014",
          "Web Publishing/2014",
          "Accounting/2015",
          "Action/2015",
          "Adventure/2015",
          "Animation &amp; Modeling/2015",
          "Audio Production/2015",
          "Casual/2015",
          "Design &amp; Illustration/2015",
          "Early Access/2015",
          "Education/2015",
          "Free to Play/2015",
          "Indie/2015",
          "Massively Multiplayer/2015",
          "Photo Editing/2015",
          "RPG/2015",
          "Racing/2015",
          "Simulation/2015",
          "Software Training/2015",
          "Sports/2015",
          "Strategy/2015",
          "Utilities/2015",
          "Video Production/2015",
          "Web Publishing/2015",
          "Accounting/2016",
          "Action/2016",
          "Adventure/2016",
          "Animation &amp; Modeling/2016",
          "Audio Production/2016",
          "Casual/2016",
          "Design &amp; Illustration/2016",
          "Early Access/2016",
          "Education/2016",
          "Free to Play/2016",
          "Indie/2016",
          "Massively Multiplayer/2016",
          "Photo Editing/2016",
          "RPG/2016",
          "Racing/2016",
          "Simulation/2016",
          "Software Training/2016",
          "Sports/2016",
          "Strategy/2016",
          "Utilities/2016",
          "Video Production/2016",
          "Web Publishing/2016",
          "Accounting/2017",
          "Action/2017",
          "Adventure/2017",
          "Animation &amp; Modeling/2017",
          "Audio Production/2017",
          "Casual/2017",
          "Design &amp; Illustration/2017",
          "Early Access/2017",
          "Education/2017",
          "Free to Play/2017",
          "Indie/2017",
          "Massively Multiplayer/2017",
          "Photo Editing/2017",
          "RPG/2017",
          "Racing/2017",
          "Simulation/2017",
          "Software Training/2017",
          "Sports/2017",
          "Strategy/2017",
          "Utilities/2017",
          "Video Production/2017",
          "Web Publishing/2017",
          "Action/2018",
          "Adventure/2018",
          "Casual/2018",
          "Design &amp; Illustration/2018",
          "Early Access/2018",
          "Education/2018",
          "Free to Play/2018",
          "Indie/2018",
          "Massively Multiplayer/2018",
          "RPG/2018",
          "Racing/2018",
          "Simulation/2018",
          "Sports/2018",
          "Strategy/2018",
          "Utilities/2018",
          "Action/2019",
          "Adventure/2019",
          "Early Access/2019",
          "Free to Play/2019",
          "Indie/2019",
          "RPG/2019",
          "Strategy/2019",
          "Adventure/2021",
          "Indie/2021",
          "RPG/2021",
          "Accounting",
          "Action",
          "Adventure",
          "Animation &amp; Modeling",
          "Audio Production",
          "Casual",
          "Design &amp; Illustration",
          "Early Access",
          "Education",
          "Free to Play",
          "Indie",
          "Massively Multiplayer",
          "Photo Editing",
          "RPG",
          "Racing",
          "Simulation",
          "Software Training",
          "Sports",
          "Strategy",
          "Utilities",
          "Video Production",
          "Web Publishing"
         ],
         "labels": [
          "1983",
          "1983",
          "1983",
          "1984",
          "1984",
          "1984",
          "1984",
          "1985",
          "1986",
          "1986",
          "1986",
          "1986",
          "1986",
          "1987",
          "1987",
          "1988",
          "1988",
          "1988",
          "1988",
          "1988",
          "1988",
          "1989",
          "1989",
          "1989",
          "1989",
          "1990",
          "1990",
          "1990",
          "1990",
          "1990",
          "1991",
          "1991",
          "1991",
          "1991",
          "1991",
          "1991",
          "1992",
          "1992",
          "1992",
          "1992",
          "1992",
          "1992",
          "1992",
          "1993",
          "1993",
          "1993",
          "1993",
          "1993",
          "1993",
          "1994",
          "1994",
          "1994",
          "1994",
          "1994",
          "1994",
          "1994",
          "1994",
          "1995",
          "1995",
          "1995",
          "1995",
          "1995",
          "1995",
          "1995",
          "1995",
          "1995",
          "1996",
          "1996",
          "1996",
          "1996",
          "1996",
          "1996",
          "1996",
          "1996",
          "1996",
          "1996",
          "1997",
          "1997",
          "1997",
          "1997",
          "1997",
          "1997",
          "1997",
          "1997",
          "1997",
          "1998",
          "1998",
          "1998",
          "1998",
          "1998",
          "1998",
          "1998",
          "1998",
          "1999",
          "1999",
          "1999",
          "1999",
          "1999",
          "1999",
          "1999",
          "1999",
          "1999",
          "1999",
          "1999",
          "2000",
          "2000",
          "2000",
          "2000",
          "2000",
          "2000",
          "2000",
          "2000",
          "2001",
          "2001",
          "2001",
          "2001",
          "2001",
          "2001",
          "2001",
          "2001",
          "2001",
          "2001",
          "2002",
          "2002",
          "2002",
          "2002",
          "2002",
          "2002",
          "2002",
          "2002",
          "2003",
          "2003",
          "2003",
          "2003",
          "2003",
          "2003",
          "2003",
          "2003",
          "2003",
          "2003",
          "2004",
          "2004",
          "2004",
          "2004",
          "2004",
          "2004",
          "2004",
          "2004",
          "2004",
          "2005",
          "2005",
          "2005",
          "2005",
          "2005",
          "2005",
          "2005",
          "2005",
          "2005",
          "2005",
          "2005",
          "2005",
          "2006",
          "2006",
          "2006",
          "2006",
          "2006",
          "2006",
          "2006",
          "2006",
          "2006",
          "2006",
          "2006",
          "2006",
          "2006",
          "2006",
          "2007",
          "2007",
          "2007",
          "2007",
          "2007",
          "2007",
          "2007",
          "2007",
          "2007",
          "2007",
          "2007",
          "2007",
          "2007",
          "2007",
          "2007",
          "2007",
          "2007",
          "2008",
          "2008",
          "2008",
          "2008",
          "2008",
          "2008",
          "2008",
          "2008",
          "2008",
          "2008",
          "2008",
          "2008",
          "2008",
          "2008",
          "2008",
          "2008",
          "2008",
          "2009",
          "2009",
          "2009",
          "2009",
          "2009",
          "2009",
          "2009",
          "2009",
          "2009",
          "2009",
          "2009",
          "2009",
          "2010",
          "2010",
          "2010",
          "2010",
          "2010",
          "2010",
          "2010",
          "2010",
          "2010",
          "2010",
          "2010",
          "2010",
          "2010",
          "2011",
          "2011",
          "2011",
          "2011",
          "2011",
          "2011",
          "2011",
          "2011",
          "2011",
          "2011",
          "2011",
          "2012",
          "2012",
          "2012",
          "2012",
          "2012",
          "2012",
          "2012",
          "2012",
          "2012",
          "2012",
          "2012",
          "2012",
          "2012",
          "2012",
          "2012",
          "2012",
          "2012",
          "2012",
          "2013",
          "2013",
          "2013",
          "2013",
          "2013",
          "2013",
          "2013",
          "2013",
          "2013",
          "2013",
          "2013",
          "2013",
          "2013",
          "2013",
          "2013",
          "2013",
          "2013",
          "2013",
          "2013",
          "2013",
          "2014",
          "2014",
          "2014",
          "2014",
          "2014",
          "2014",
          "2014",
          "2014",
          "2014",
          "2014",
          "2014",
          "2014",
          "2014",
          "2014",
          "2014",
          "2014",
          "2014",
          "2014",
          "2014",
          "2014",
          "2014",
          "2015",
          "2015",
          "2015",
          "2015",
          "2015",
          "2015",
          "2015",
          "2015",
          "2015",
          "2015",
          "2015",
          "2015",
          "2015",
          "2015",
          "2015",
          "2015",
          "2015",
          "2015",
          "2015",
          "2015",
          "2015",
          "2015",
          "2016",
          "2016",
          "2016",
          "2016",
          "2016",
          "2016",
          "2016",
          "2016",
          "2016",
          "2016",
          "2016",
          "2016",
          "2016",
          "2016",
          "2016",
          "2016",
          "2016",
          "2016",
          "2016",
          "2016",
          "2016",
          "2016",
          "2017",
          "2017",
          "2017",
          "2017",
          "2017",
          "2017",
          "2017",
          "2017",
          "2017",
          "2017",
          "2017",
          "2017",
          "2017",
          "2017",
          "2017",
          "2017",
          "2017",
          "2017",
          "2017",
          "2017",
          "2017",
          "2017",
          "2018",
          "2018",
          "2018",
          "2018",
          "2018",
          "2018",
          "2018",
          "2018",
          "2018",
          "2018",
          "2018",
          "2018",
          "2018",
          "2018",
          "2018",
          "2019",
          "2019",
          "2019",
          "2019",
          "2019",
          "2019",
          "2019",
          "2021",
          "2021",
          "2021",
          "Accounting",
          "Action",
          "Adventure",
          "Animation &amp; Modeling",
          "Audio Production",
          "Casual",
          "Design &amp; Illustration",
          "Early Access",
          "Education",
          "Free to Play",
          "Indie",
          "Massively Multiplayer",
          "Photo Editing",
          "RPG",
          "Racing",
          "Simulation",
          "Software Training",
          "Sports",
          "Strategy",
          "Utilities",
          "Video Production",
          "Web Publishing"
         ],
         "name": "",
         "parents": [
          "Action",
          "Adventure",
          "Casual",
          "Action",
          "Adventure",
          "Casual",
          "Indie",
          "Simulation",
          "Adventure",
          "Casual",
          "Indie",
          "RPG",
          "Simulation",
          "Adventure",
          "Simulation",
          "Action",
          "Adventure",
          "Indie",
          "RPG",
          "Simulation",
          "Strategy",
          "Action",
          "Adventure",
          "RPG",
          "Simulation",
          "Action",
          "Adventure",
          "RPG",
          "Simulation",
          "Strategy",
          "Action",
          "Adventure",
          "Casual",
          "RPG",
          "Simulation",
          "Strategy",
          "Action",
          "Adventure",
          "Casual",
          "Indie",
          "RPG",
          "Simulation",
          "Strategy",
          "Action",
          "Adventure",
          "Casual",
          "RPG",
          "Simulation",
          "Strategy",
          "Action",
          "Adventure",
          "Casual",
          "Indie",
          "RPG",
          "Racing",
          "Simulation",
          "Strategy",
          "Action",
          "Adventure",
          "Casual",
          "Indie",
          "RPG",
          "Racing",
          "Simulation",
          "Sports",
          "Strategy",
          "Action",
          "Adventure",
          "Casual",
          "Free to Play",
          "Indie",
          "RPG",
          "Racing",
          "Simulation",
          "Sports",
          "Strategy",
          "Action",
          "Adventure",
          "Casual",
          "Indie",
          "RPG",
          "Racing",
          "Simulation",
          "Sports",
          "Strategy",
          "Action",
          "Adventure",
          "Casual",
          "Indie",
          "RPG",
          "Racing",
          "Simulation",
          "Strategy",
          "Action",
          "Adventure",
          "Casual",
          "Free to Play",
          "Indie",
          "Massively Multiplayer",
          "RPG",
          "Racing",
          "Simulation",
          "Sports",
          "Strategy",
          "Action",
          "Adventure",
          "Casual",
          "Indie",
          "RPG",
          "Racing",
          "Simulation",
          "Strategy",
          "Action",
          "Adventure",
          "Casual",
          "Early Access",
          "Free to Play",
          "Indie",
          "Massively Multiplayer",
          "RPG",
          "Simulation",
          "Strategy",
          "Action",
          "Adventure",
          "Casual",
          "Indie",
          "RPG",
          "Simulation",
          "Sports",
          "Strategy",
          "Action",
          "Adventure",
          "Casual",
          "Free to Play",
          "Indie",
          "Massively Multiplayer",
          "RPG",
          "Racing",
          "Simulation",
          "Strategy",
          "Action",
          "Adventure",
          "Casual",
          "Free to Play",
          "Indie",
          "RPG",
          "Racing",
          "Simulation",
          "Strategy",
          "Action",
          "Adventure",
          "Casual",
          "Free to Play",
          "Indie",
          "Massively Multiplayer",
          "RPG",
          "Racing",
          "Simulation",
          "Sports",
          "Strategy",
          "Web Publishing",
          "Action",
          "Adventure",
          "Casual",
          "Free to Play",
          "Indie",
          "Massively Multiplayer",
          "Photo Editing",
          "RPG",
          "Racing",
          "Simulation",
          "Sports",
          "Strategy",
          "Utilities",
          "Video Production",
          "Action",
          "Adventure",
          "Audio Production",
          "Casual",
          "Design &amp; Illustration",
          "Free to Play",
          "Indie",
          "Massively Multiplayer",
          "Photo Editing",
          "RPG",
          "Racing",
          "Simulation",
          "Sports",
          "Strategy",
          "Utilities",
          "Video Production",
          "Web Publishing",
          "Action",
          "Adventure",
          "Animation &amp; Modeling",
          "Casual",
          "Design &amp; Illustration",
          "Education",
          "Free to Play",
          "Indie",
          "Massively Multiplayer",
          "RPG",
          "Racing",
          "Simulation",
          "Software Training",
          "Sports",
          "Strategy",
          "Utilities",
          "Web Publishing",
          "Action",
          "Adventure",
          "Casual",
          "Free to Play",
          "Indie",
          "Massively Multiplayer",
          "RPG",
          "Racing",
          "Simulation",
          "Sports",
          "Strategy",
          "Utilities",
          "Action",
          "Adventure",
          "Casual",
          "Education",
          "Free to Play",
          "Indie",
          "Massively Multiplayer",
          "RPG",
          "Racing",
          "Simulation",
          "Software Training",
          "Sports",
          "Strategy",
          "Action",
          "Adventure",
          "Casual",
          "Free to Play",
          "Indie",
          "Massively Multiplayer",
          "RPG",
          "Racing",
          "Simulation",
          "Sports",
          "Strategy",
          "Action",
          "Adventure",
          "Animation &amp; Modeling",
          "Casual",
          "Design &amp; Illustration",
          "Early Access",
          "Free to Play",
          "Indie",
          "Massively Multiplayer",
          "Photo Editing",
          "RPG",
          "Racing",
          "Simulation",
          "Sports",
          "Strategy",
          "Utilities",
          "Video Production",
          "Web Publishing",
          "Action",
          "Adventure",
          "Animation &amp; Modeling",
          "Audio Production",
          "Casual",
          "Design &amp; Illustration",
          "Early Access",
          "Education",
          "Free to Play",
          "Indie",
          "Massively Multiplayer",
          "RPG",
          "Racing",
          "Simulation",
          "Software Training",
          "Sports",
          "Strategy",
          "Utilities",
          "Video Production",
          "Web Publishing",
          "Action",
          "Adventure",
          "Animation &amp; Modeling",
          "Audio Production",
          "Casual",
          "Design &amp; Illustration",
          "Early Access",
          "Education",
          "Free to Play",
          "Indie",
          "Massively Multiplayer",
          "Photo Editing",
          "RPG",
          "Racing",
          "Simulation",
          "Software Training",
          "Sports",
          "Strategy",
          "Utilities",
          "Video Production",
          "Web Publishing",
          "Accounting",
          "Action",
          "Adventure",
          "Animation &amp; Modeling",
          "Audio Production",
          "Casual",
          "Design &amp; Illustration",
          "Early Access",
          "Education",
          "Free to Play",
          "Indie",
          "Massively Multiplayer",
          "Photo Editing",
          "RPG",
          "Racing",
          "Simulation",
          "Software Training",
          "Sports",
          "Strategy",
          "Utilities",
          "Video Production",
          "Web Publishing",
          "Accounting",
          "Action",
          "Adventure",
          "Animation &amp; Modeling",
          "Audio Production",
          "Casual",
          "Design &amp; Illustration",
          "Early Access",
          "Education",
          "Free to Play",
          "Indie",
          "Massively Multiplayer",
          "Photo Editing",
          "RPG",
          "Racing",
          "Simulation",
          "Software Training",
          "Sports",
          "Strategy",
          "Utilities",
          "Video Production",
          "Web Publishing",
          "Accounting",
          "Action",
          "Adventure",
          "Animation &amp; Modeling",
          "Audio Production",
          "Casual",
          "Design &amp; Illustration",
          "Early Access",
          "Education",
          "Free to Play",
          "Indie",
          "Massively Multiplayer",
          "Photo Editing",
          "RPG",
          "Racing",
          "Simulation",
          "Software Training",
          "Sports",
          "Strategy",
          "Utilities",
          "Video Production",
          "Web Publishing",
          "Action",
          "Adventure",
          "Casual",
          "Design &amp; Illustration",
          "Early Access",
          "Education",
          "Free to Play",
          "Indie",
          "Massively Multiplayer",
          "RPG",
          "Racing",
          "Simulation",
          "Sports",
          "Strategy",
          "Utilities",
          "Action",
          "Adventure",
          "Early Access",
          "Free to Play",
          "Indie",
          "RPG",
          "Strategy",
          "Adventure",
          "Indie",
          "RPG",
          "",
          "",
          "",
          "",
          "",
          "",
          "",
          "",
          "",
          "",
          "",
          "",
          "",
          "",
          "",
          "",
          "",
          "",
          "",
          "",
          "",
          ""
         ],
         "type": "treemap",
         "values": [
          1,
          1,
          1,
          1,
          1,
          2,
          1,
          1,
          1,
          1,
          1,
          1,
          1,
          3,
          2,
          1,
          2,
          1,
          1,
          2,
          2,
          2,
          5,
          1,
          3,
          3,
          5,
          1,
          4,
          1,
          6,
          8,
          1,
          2,
          2,
          3,
          5,
          10,
          1,
          1,
          4,
          1,
          2,
          13,
          15,
          3,
          2,
          4,
          3,
          20,
          13,
          3,
          1,
          2,
          2,
          7,
          4,
          15,
          11,
          4,
          2,
          3,
          2,
          3,
          2,
          7,
          13,
          16,
          8,
          1,
          3,
          2,
          3,
          3,
          1,
          6,
          16,
          16,
          8,
          6,
          4,
          2,
          2,
          1,
          9,
          22,
          15,
          8,
          5,
          2,
          4,
          7,
          12,
          26,
          6,
          5,
          1,
          4,
          1,
          9,
          3,
          7,
          2,
          16,
          19,
          8,
          6,
          3,
          5,
          1,
          7,
          9,
          25,
          14,
          7,
          1,
          3,
          9,
          4,
          7,
          13,
          26,
          21,
          7,
          4,
          3,
          5,
          5,
          1,
          16,
          34,
          20,
          7,
          2,
          10,
          2,
          11,
          2,
          4,
          26,
          28,
          11,
          6,
          1,
          5,
          6,
          1,
          10,
          24,
          38,
          15,
          10,
          3,
          10,
          1,
          16,
          8,
          9,
          3,
          25,
          1,
          44,
          22,
          27,
          3,
          22,
          4,
          1,
          12,
          11,
          22,
          2,
          46,
          2,
          1,
          58,
          28,
          2,
          35,
          1,
          7,
          30,
          4,
          1,
          21,
          8,
          27,
          2,
          33,
          1,
          1,
          1,
          46,
          51,
          1,
          60,
          1,
          1,
          6,
          55,
          5,
          27,
          14,
          24,
          1,
          5,
          35,
          1,
          1,
          87,
          55,
          67,
          4,
          70,
          2,
          34,
          10,
          83,
          9,
          73,
          1,
          152,
          85,
          71,
          5,
          7,
          110,
          2,
          56,
          11,
          57,
          1,
          4,
          106,
          226,
          89,
          97,
          12,
          179,
          9,
          89,
          22,
          86,
          11,
          173,
          509,
          195,
          3,
          240,
          1,
          2,
          42,
          347,
          21,
          1,
          140,
          30,
          281,
          6,
          299,
          2,
          2,
          1,
          592,
          323,
          10,
          5,
          284,
          28,
          9,
          9,
          76,
          458,
          34,
          212,
          47,
          373,
          6,
          45,
          407,
          16,
          3,
          30,
          1021,
          684,
          26,
          16,
          714,
          60,
          78,
          13,
          168,
          1356,
          98,
          4,
          566,
          79,
          707,
          12,
          101,
          569,
          33,
          9,
          44,
          2,
          2016,
          1500,
          38,
          16,
          1215,
          88,
          224,
          25,
          333,
          2827,
          182,
          29,
          964,
          162,
          1173,
          34,
          179,
          1075,
          86,
          23,
          34,
          1,
          2529,
          2040,
          52,
          22,
          2138,
          123,
          362,
          29,
          555,
          4100,
          309,
          15,
          1271,
          282,
          1658,
          19,
          355,
          1598,
          90,
          29,
          60,
          4,
          3545,
          2827,
          53,
          27,
          3168,
          157,
          732,
          43,
          770,
          5983,
          414,
          26,
          1925,
          371,
          2036,
          28,
          511,
          2270,
          101,
          44,
          94,
          73,
          71,
          44,
          1,
          32,
          1,
          13,
          122,
          3,
          40,
          5,
          40,
          12,
          27,
          1,
          2,
          3,
          1,
          1,
          3,
          2,
          1,
          1,
          1,
          1,
          7,
          11209,
          8177,
          183,
          88,
          8245,
          460,
          1441,
          126,
          2008,
          15728,
          1095,
          77,
          5444,
          1080,
          6664,
          101,
          1252,
          6903,
          334,
          112,
          266
         ]
        }
       ],
       "layout": {
        "font": {
         "color": "white"
        },
        "height": 600,
        "legend": {
         "tracegroupgap": 0
        },
        "margin": {
         "b": 10,
         "l": 10,
         "r": 10,
         "t": 50
        },
        "paper_bgcolor": "#1E1E1E",
        "showlegend": false,
        "template": {
         "data": {
          "bar": [
           {
            "error_x": {
             "color": "#f2f5fa"
            },
            "error_y": {
             "color": "#f2f5fa"
            },
            "marker": {
             "line": {
              "color": "rgb(17,17,17)",
              "width": 0.5
             },
             "pattern": {
              "fillmode": "overlay",
              "size": 10,
              "solidity": 0.2
             }
            },
            "type": "bar"
           }
          ],
          "barpolar": [
           {
            "marker": {
             "line": {
              "color": "rgb(17,17,17)",
              "width": 0.5
             },
             "pattern": {
              "fillmode": "overlay",
              "size": 10,
              "solidity": 0.2
             }
            },
            "type": "barpolar"
           }
          ],
          "carpet": [
           {
            "aaxis": {
             "endlinecolor": "#A2B1C6",
             "gridcolor": "#506784",
             "linecolor": "#506784",
             "minorgridcolor": "#506784",
             "startlinecolor": "#A2B1C6"
            },
            "baxis": {
             "endlinecolor": "#A2B1C6",
             "gridcolor": "#506784",
             "linecolor": "#506784",
             "minorgridcolor": "#506784",
             "startlinecolor": "#A2B1C6"
            },
            "type": "carpet"
           }
          ],
          "choropleth": [
           {
            "colorbar": {
             "outlinewidth": 0,
             "ticks": ""
            },
            "type": "choropleth"
           }
          ],
          "contour": [
           {
            "colorbar": {
             "outlinewidth": 0,
             "ticks": ""
            },
            "colorscale": [
             [
              0,
              "#0d0887"
             ],
             [
              0.1111111111111111,
              "#46039f"
             ],
             [
              0.2222222222222222,
              "#7201a8"
             ],
             [
              0.3333333333333333,
              "#9c179e"
             ],
             [
              0.4444444444444444,
              "#bd3786"
             ],
             [
              0.5555555555555556,
              "#d8576b"
             ],
             [
              0.6666666666666666,
              "#ed7953"
             ],
             [
              0.7777777777777778,
              "#fb9f3a"
             ],
             [
              0.8888888888888888,
              "#fdca26"
             ],
             [
              1,
              "#f0f921"
             ]
            ],
            "type": "contour"
           }
          ],
          "contourcarpet": [
           {
            "colorbar": {
             "outlinewidth": 0,
             "ticks": ""
            },
            "type": "contourcarpet"
           }
          ],
          "heatmap": [
           {
            "colorbar": {
             "outlinewidth": 0,
             "ticks": ""
            },
            "colorscale": [
             [
              0,
              "#0d0887"
             ],
             [
              0.1111111111111111,
              "#46039f"
             ],
             [
              0.2222222222222222,
              "#7201a8"
             ],
             [
              0.3333333333333333,
              "#9c179e"
             ],
             [
              0.4444444444444444,
              "#bd3786"
             ],
             [
              0.5555555555555556,
              "#d8576b"
             ],
             [
              0.6666666666666666,
              "#ed7953"
             ],
             [
              0.7777777777777778,
              "#fb9f3a"
             ],
             [
              0.8888888888888888,
              "#fdca26"
             ],
             [
              1,
              "#f0f921"
             ]
            ],
            "type": "heatmap"
           }
          ],
          "heatmapgl": [
           {
            "colorbar": {
             "outlinewidth": 0,
             "ticks": ""
            },
            "colorscale": [
             [
              0,
              "#0d0887"
             ],
             [
              0.1111111111111111,
              "#46039f"
             ],
             [
              0.2222222222222222,
              "#7201a8"
             ],
             [
              0.3333333333333333,
              "#9c179e"
             ],
             [
              0.4444444444444444,
              "#bd3786"
             ],
             [
              0.5555555555555556,
              "#d8576b"
             ],
             [
              0.6666666666666666,
              "#ed7953"
             ],
             [
              0.7777777777777778,
              "#fb9f3a"
             ],
             [
              0.8888888888888888,
              "#fdca26"
             ],
             [
              1,
              "#f0f921"
             ]
            ],
            "type": "heatmapgl"
           }
          ],
          "histogram": [
           {
            "marker": {
             "pattern": {
              "fillmode": "overlay",
              "size": 10,
              "solidity": 0.2
             }
            },
            "type": "histogram"
           }
          ],
          "histogram2d": [
           {
            "colorbar": {
             "outlinewidth": 0,
             "ticks": ""
            },
            "colorscale": [
             [
              0,
              "#0d0887"
             ],
             [
              0.1111111111111111,
              "#46039f"
             ],
             [
              0.2222222222222222,
              "#7201a8"
             ],
             [
              0.3333333333333333,
              "#9c179e"
             ],
             [
              0.4444444444444444,
              "#bd3786"
             ],
             [
              0.5555555555555556,
              "#d8576b"
             ],
             [
              0.6666666666666666,
              "#ed7953"
             ],
             [
              0.7777777777777778,
              "#fb9f3a"
             ],
             [
              0.8888888888888888,
              "#fdca26"
             ],
             [
              1,
              "#f0f921"
             ]
            ],
            "type": "histogram2d"
           }
          ],
          "histogram2dcontour": [
           {
            "colorbar": {
             "outlinewidth": 0,
             "ticks": ""
            },
            "colorscale": [
             [
              0,
              "#0d0887"
             ],
             [
              0.1111111111111111,
              "#46039f"
             ],
             [
              0.2222222222222222,
              "#7201a8"
             ],
             [
              0.3333333333333333,
              "#9c179e"
             ],
             [
              0.4444444444444444,
              "#bd3786"
             ],
             [
              0.5555555555555556,
              "#d8576b"
             ],
             [
              0.6666666666666666,
              "#ed7953"
             ],
             [
              0.7777777777777778,
              "#fb9f3a"
             ],
             [
              0.8888888888888888,
              "#fdca26"
             ],
             [
              1,
              "#f0f921"
             ]
            ],
            "type": "histogram2dcontour"
           }
          ],
          "mesh3d": [
           {
            "colorbar": {
             "outlinewidth": 0,
             "ticks": ""
            },
            "type": "mesh3d"
           }
          ],
          "parcoords": [
           {
            "line": {
             "colorbar": {
              "outlinewidth": 0,
              "ticks": ""
             }
            },
            "type": "parcoords"
           }
          ],
          "pie": [
           {
            "automargin": true,
            "type": "pie"
           }
          ],
          "scatter": [
           {
            "marker": {
             "line": {
              "color": "#283442"
             }
            },
            "type": "scatter"
           }
          ],
          "scatter3d": [
           {
            "line": {
             "colorbar": {
              "outlinewidth": 0,
              "ticks": ""
             }
            },
            "marker": {
             "colorbar": {
              "outlinewidth": 0,
              "ticks": ""
             }
            },
            "type": "scatter3d"
           }
          ],
          "scattercarpet": [
           {
            "marker": {
             "colorbar": {
              "outlinewidth": 0,
              "ticks": ""
             }
            },
            "type": "scattercarpet"
           }
          ],
          "scattergeo": [
           {
            "marker": {
             "colorbar": {
              "outlinewidth": 0,
              "ticks": ""
             }
            },
            "type": "scattergeo"
           }
          ],
          "scattergl": [
           {
            "marker": {
             "line": {
              "color": "#283442"
             }
            },
            "type": "scattergl"
           }
          ],
          "scattermapbox": [
           {
            "marker": {
             "colorbar": {
              "outlinewidth": 0,
              "ticks": ""
             }
            },
            "type": "scattermapbox"
           }
          ],
          "scatterpolar": [
           {
            "marker": {
             "colorbar": {
              "outlinewidth": 0,
              "ticks": ""
             }
            },
            "type": "scatterpolar"
           }
          ],
          "scatterpolargl": [
           {
            "marker": {
             "colorbar": {
              "outlinewidth": 0,
              "ticks": ""
             }
            },
            "type": "scatterpolargl"
           }
          ],
          "scatterternary": [
           {
            "marker": {
             "colorbar": {
              "outlinewidth": 0,
              "ticks": ""
             }
            },
            "type": "scatterternary"
           }
          ],
          "surface": [
           {
            "colorbar": {
             "outlinewidth": 0,
             "ticks": ""
            },
            "colorscale": [
             [
              0,
              "#0d0887"
             ],
             [
              0.1111111111111111,
              "#46039f"
             ],
             [
              0.2222222222222222,
              "#7201a8"
             ],
             [
              0.3333333333333333,
              "#9c179e"
             ],
             [
              0.4444444444444444,
              "#bd3786"
             ],
             [
              0.5555555555555556,
              "#d8576b"
             ],
             [
              0.6666666666666666,
              "#ed7953"
             ],
             [
              0.7777777777777778,
              "#fb9f3a"
             ],
             [
              0.8888888888888888,
              "#fdca26"
             ],
             [
              1,
              "#f0f921"
             ]
            ],
            "type": "surface"
           }
          ],
          "table": [
           {
            "cells": {
             "fill": {
              "color": "#506784"
             },
             "line": {
              "color": "rgb(17,17,17)"
             }
            },
            "header": {
             "fill": {
              "color": "#2a3f5f"
             },
             "line": {
              "color": "rgb(17,17,17)"
             }
            },
            "type": "table"
           }
          ]
         },
         "layout": {
          "annotationdefaults": {
           "arrowcolor": "#f2f5fa",
           "arrowhead": 0,
           "arrowwidth": 1
          },
          "autotypenumbers": "strict",
          "coloraxis": {
           "colorbar": {
            "outlinewidth": 0,
            "ticks": ""
           }
          },
          "colorscale": {
           "diverging": [
            [
             0,
             "#8e0152"
            ],
            [
             0.1,
             "#c51b7d"
            ],
            [
             0.2,
             "#de77ae"
            ],
            [
             0.3,
             "#f1b6da"
            ],
            [
             0.4,
             "#fde0ef"
            ],
            [
             0.5,
             "#f7f7f7"
            ],
            [
             0.6,
             "#e6f5d0"
            ],
            [
             0.7,
             "#b8e186"
            ],
            [
             0.8,
             "#7fbc41"
            ],
            [
             0.9,
             "#4d9221"
            ],
            [
             1,
             "#276419"
            ]
           ],
           "sequential": [
            [
             0,
             "#0d0887"
            ],
            [
             0.1111111111111111,
             "#46039f"
            ],
            [
             0.2222222222222222,
             "#7201a8"
            ],
            [
             0.3333333333333333,
             "#9c179e"
            ],
            [
             0.4444444444444444,
             "#bd3786"
            ],
            [
             0.5555555555555556,
             "#d8576b"
            ],
            [
             0.6666666666666666,
             "#ed7953"
            ],
            [
             0.7777777777777778,
             "#fb9f3a"
            ],
            [
             0.8888888888888888,
             "#fdca26"
            ],
            [
             1,
             "#f0f921"
            ]
           ],
           "sequentialminus": [
            [
             0,
             "#0d0887"
            ],
            [
             0.1111111111111111,
             "#46039f"
            ],
            [
             0.2222222222222222,
             "#7201a8"
            ],
            [
             0.3333333333333333,
             "#9c179e"
            ],
            [
             0.4444444444444444,
             "#bd3786"
            ],
            [
             0.5555555555555556,
             "#d8576b"
            ],
            [
             0.6666666666666666,
             "#ed7953"
            ],
            [
             0.7777777777777778,
             "#fb9f3a"
            ],
            [
             0.8888888888888888,
             "#fdca26"
            ],
            [
             1,
             "#f0f921"
            ]
           ]
          },
          "colorway": [
           "#636efa",
           "#EF553B",
           "#00cc96",
           "#ab63fa",
           "#FFA15A",
           "#19d3f3",
           "#FF6692",
           "#B6E880",
           "#FF97FF",
           "#FECB52"
          ],
          "font": {
           "color": "#f2f5fa"
          },
          "geo": {
           "bgcolor": "rgb(17,17,17)",
           "lakecolor": "rgb(17,17,17)",
           "landcolor": "rgb(17,17,17)",
           "showlakes": true,
           "showland": true,
           "subunitcolor": "#506784"
          },
          "hoverlabel": {
           "align": "left"
          },
          "hovermode": "closest",
          "mapbox": {
           "style": "dark"
          },
          "paper_bgcolor": "rgb(17,17,17)",
          "plot_bgcolor": "rgb(17,17,17)",
          "polar": {
           "angularaxis": {
            "gridcolor": "#506784",
            "linecolor": "#506784",
            "ticks": ""
           },
           "bgcolor": "rgb(17,17,17)",
           "radialaxis": {
            "gridcolor": "#506784",
            "linecolor": "#506784",
            "ticks": ""
           }
          },
          "scene": {
           "xaxis": {
            "backgroundcolor": "rgb(17,17,17)",
            "gridcolor": "#506784",
            "gridwidth": 2,
            "linecolor": "#506784",
            "showbackground": true,
            "ticks": "",
            "zerolinecolor": "#C8D4E3"
           },
           "yaxis": {
            "backgroundcolor": "rgb(17,17,17)",
            "gridcolor": "#506784",
            "gridwidth": 2,
            "linecolor": "#506784",
            "showbackground": true,
            "ticks": "",
            "zerolinecolor": "#C8D4E3"
           },
           "zaxis": {
            "backgroundcolor": "rgb(17,17,17)",
            "gridcolor": "#506784",
            "gridwidth": 2,
            "linecolor": "#506784",
            "showbackground": true,
            "ticks": "",
            "zerolinecolor": "#C8D4E3"
           }
          },
          "shapedefaults": {
           "line": {
            "color": "#f2f5fa"
           }
          },
          "sliderdefaults": {
           "bgcolor": "#C8D4E3",
           "bordercolor": "rgb(17,17,17)",
           "borderwidth": 1,
           "tickwidth": 0
          },
          "ternary": {
           "aaxis": {
            "gridcolor": "#506784",
            "linecolor": "#506784",
            "ticks": ""
           },
           "baxis": {
            "gridcolor": "#506784",
            "linecolor": "#506784",
            "ticks": ""
           },
           "bgcolor": "rgb(17,17,17)",
           "caxis": {
            "gridcolor": "#506784",
            "linecolor": "#506784",
            "ticks": ""
           }
          },
          "title": {
           "x": 0.05
          },
          "updatemenudefaults": {
           "bgcolor": "#506784",
           "borderwidth": 0
          },
          "xaxis": {
           "automargin": true,
           "gridcolor": "#283442",
           "linecolor": "#506784",
           "ticks": "",
           "title": {
            "standoff": 15
           },
           "zerolinecolor": "#283442",
           "zerolinewidth": 2
          },
          "yaxis": {
           "automargin": true,
           "gridcolor": "#283442",
           "linecolor": "#506784",
           "ticks": "",
           "title": {
            "standoff": 15
           },
           "zerolinecolor": "#283442",
           "zerolinewidth": 2
          }
         }
        },
        "title": {
         "font": {
          "color": "white",
          "family": "Arial",
          "size": 24
         },
         "text": "Juegos por Genero y Año",
         "x": 0.5,
         "y": 0.95
        },
        "treemapcolorway": [
         "#2E91E5",
         "#E15F99",
         "#1CA71C",
         "#FB0D0D",
         "#DA16FF",
         "#222A2A",
         "#B68100",
         "#750D86",
         "#EB663B",
         "#511CFB",
         "#00A08B",
         "#FB00D1",
         "#FC0080",
         "#B2828D",
         "#6C7C32",
         "#778AAE",
         "#862A16",
         "#A777F1",
         "#620042",
         "#1616A7",
         "#DA60CA",
         "#6C4516",
         "#0D2A63",
         "#AF0038"
        ],
        "width": 800
       }
      }
     },
     "metadata": {},
     "output_type": "display_data"
    }
   ],
   "source": [
    "# Cambiar a colores oscuros\n",
    "dark_bg_color = '#1E1E1E'\n",
    "text_color = 'white'\n",
    "title_color = 'white'\n",
    "border_color = 'white'\n",
    "dark_colors = px.colors.qualitative.Dark24\n",
    "\n",
    "# Ajustar estilo del gráfico\n",
    "fig.update_layout(\n",
    "    template='plotly_dark',\n",
    "    paper_bgcolor=dark_bg_color,\n",
    "    font_color=text_color,\n",
    "    title_font_color=title_color,\n",
    "    title_font_size=24,\n",
    "    title_font_family='Arial',\n",
    "    title_x=0.5,\n",
    "    title_y=0.95,\n",
    "    margin=dict(t=50, l=10, r=10, b=10),\n",
    "    showlegend=False,\n",
    "    treemapcolorway=dark_colors,\n",
    ")\n",
    "# Mostrar el treemap\n",
    "fig.show()"
   ]
  },
  {
   "cell_type": "markdown",
   "metadata": {},
   "source": [
    "### Conclusiones"
   ]
  },
  {
   "cell_type": "markdown",
   "metadata": {},
   "source": [
    "Se puede ver que la mayoria de los juegos caen en los generos:\n",
    "* Indie\n",
    "* Action\n",
    "* Casual\n",
    "* Strategy\n",
    "* Simulation\n",
    "* Adventure\n",
    "* RPG"
   ]
  },
  {
   "cell_type": "code",
   "execution_count": 6,
   "metadata": {},
   "outputs": [
    {
     "name": "stdout",
     "output_type": "stream",
     "text": [
      "Ultimo año con un registro: 2021\n"
     ]
    }
   ],
   "source": [
    "print(\"Ultimo año con un registro:\",output_steam_games['año_lanzamiento'].max())"
   ]
  },
  {
   "cell_type": "markdown",
   "metadata": {},
   "source": [
    "Teniendo en cuenta que tenemos juegos desarrollados en 2021, podemos decir que los años en donde mas se han desarrollado juegos son:\n",
    "1) 2017\n",
    "\n",
    "2) 2016\n",
    "\n",
    "3) 2015"
   ]
  },
  {
   "cell_type": "markdown",
   "metadata": {},
   "source": [
    "## Veamos los juegos mas jugados"
   ]
  },
  {
   "cell_type": "code",
   "execution_count": 7,
   "metadata": {},
   "outputs": [
    {
     "data": {
      "image/png": "[encoded data removed]",
      "text/plain": [
       "<Figure size 1000x600 with 1 Axes>"
      ]
     },
     "metadata": {},
     "output_type": "display_data"
    }
   ],
   "source": [
    "# Obtener el top 10 de juegos más jugados\n",
    "top_10_games = user_items.nlargest(10, 'playtime_forever')\n",
    "\n",
    "#Pasamos a horas\n",
    "top_10_games['playtime_forever']=top_10_games['playtime_forever']/60\n",
    "\n",
    "# Ordenar el DataFrame por playtime_forever para que la gráfica sea más clara\n",
    "top_10_games = top_10_games.sort_values(by='playtime_forever', ascending=False)\n",
    "\n",
    "# Crear la gráfica de barras\n",
    "plt.figure(figsize=(10, 6))\n",
    "plt.bar(top_10_games['item_name'], top_10_games['playtime_forever'], color='skyblue')\n",
    "plt.ylabel('Tiempo de juego (horas)')\n",
    "plt.title('Top 10 Juegos Más Jugados')\n",
    "plt.xticks(rotation=45, ha='right')  # Rotar etiquetas del eje x para mayor legibilidad\n",
    "plt.tight_layout()\n",
    "\n",
    "# Mostrar la gráfica\n",
    "plt.show()"
   ]
  },
  {
   "cell_type": "markdown",
   "metadata": {},
   "source": [
    "## Y veamos los juegos mas comprados\n",
    "(Esto se hizo analizando la cantidad de veces que aparece el item por usuario)"
   ]
  },
  {
   "cell_type": "code",
   "execution_count": 8,
   "metadata": {},
   "outputs": [
    {
     "data": {
      "image/png": "[encoded data removed]",
      "text/plain": [
       "<Figure size 1000x600 with 1 Axes>"
      ]
     },
     "metadata": {},
     "output_type": "display_data"
    }
   ],
   "source": [
    "# Contar cuántos usuarios tienen cada juego\n",
    "user_counts_per_game = user_items.groupby('item_name')['user_id'].nunique().reset_index(name='user_count')\n",
    "\n",
    "# Obtener el top 10 de juegos más comprados\n",
    "top_10_purchased_games = user_counts_per_game.nlargest(10, 'user_count')\n",
    "\n",
    "# Crear la gráfica de barras\n",
    "plt.figure(figsize=(10, 6))\n",
    "plt.bar(top_10_purchased_games['item_name'], top_10_purchased_games['user_count'], color='skyblue')\n",
    "plt.ylabel('Cantidad de Usuarios')\n",
    "plt.title('Top 10 Juegos Más Comprados por Usuarios')\n",
    "plt.xticks(rotation=45, ha='right')  # Rotar etiquetas del eje x para mayor legibilidad\n",
    "plt.tight_layout()\n",
    "\n",
    "# Mostrar la gráfica\n",
    "plt.show()"
   ]
  },
  {
   "cell_type": "markdown",
   "metadata": {},
   "source": [
    "## Ahora veremos las reacciones de los usuarios a los juegos"
   ]
  },
  {
   "cell_type": "code",
   "execution_count": 11,
   "metadata": {},
   "outputs": [
    {
     "data": {
      "image/png": "[encoded data removed]",
      "text/plain": [
       "<Figure size 640x480 with 1 Axes>"
      ]
     },
     "metadata": {},
     "output_type": "display_data"
    }
   ],
   "source": [
    "# Contar la frecuencia de cada categoría\n",
    "recomends_count = user_reviews['recommend'].value_counts()\n",
    "\n",
    "# Crear una gráfica de pastel\n",
    "plt.pie(recomends_count,labels=recomends_count.index, colors=['lightskyblue', 'lightsalmon'], autopct='%1.1f%%', startangle=90)\n",
    "\n",
    "# Añadir un título\n",
    "plt.title('Recomendaciones')\n",
    "\n",
    "# Mostrar la gráfica\n",
    "plt.show()"
   ]
  },
  {
   "cell_type": "code",
   "execution_count": null,
   "metadata": {},
   "outputs": [
    {
     "data": {
      "image/png": "[encoded data removed]",
      "text/plain": [
       "<Figure size 640x480 with 1 Axes>"
      ]
     },
     "metadata": {},
     "output_type": "display_data"
    }
   ],
   "source": [
    "# Contar la frecuencia de cada categoría\n",
    "sentiment_counts = user_reviews['sentiment_analysis'].value_counts()\n",
    "\n",
    "# Crear una gráfica de pastel\n",
    "plt.pie(sentiment_counts, labels=['Positive', 'Neutral', 'Negative'], colors=['lightskyblue', 'lightslategray', 'lightsalmon'], autopct='%1.1f%%', startangle=90)\n",
    "\n",
    "# Añadir un título\n",
    "plt.title('Análisis de Sentimiento')\n",
    "\n",
    "# Mostrar la gráfica\n",
    "plt.show()"
   ]
  },
  {
   "cell_type": "code",
   "execution_count": 10,
   "metadata": {},
   "outputs": [
    {
     "data": {
      "image/png": "[encoded data removed]",
      "text/plain": [
       "<Figure size 1000x600 with 1 Axes>"
      ]
     },
     "metadata": {},
     "output_type": "display_data"
    }
   ],
   "source": [
    "# Agrupar por año y contar el número de reviews para cada combinación de año y sentimiento\n",
    "grouped_data = user_reviews.groupby(['año', 'sentiment_analysis']).size().unstack()\n",
    "\n",
    "# Normalizar los valores para obtener porcentajes\n",
    "grouped_data_percentage = grouped_data.div(grouped_data.sum(axis=1), axis=0) * 100\n",
    "\n",
    "#Ajustamos colores para que coincidan con los anteriores:\n",
    "colors={2:'lightskyblue', 1:'lightslategray', 0:'lightsalmon'}\n",
    "# Crear una gráfica de barras apiladas al 100%\n",
    "ax = grouped_data_percentage.plot(kind='bar', stacked=True, color=[colors[col] for col in grouped_data_percentage.columns], figsize=(10, 6))\n",
    "\n",
    "# Añadir etiquetas y título\n",
    "plt.ylabel('Porcentaje de Reviews')\n",
    "plt.title('Reviews por Año y Sentimiento (100% apiladas)')\n",
    "\n",
    "# Añadir leyenda\n",
    "plt.legend(['Negativo', 'Neutral','Positivo'],title='Sentimiento', bbox_to_anchor=(1.05, 1), loc='upper left')\n",
    "\n",
    "# Mostrar la gráfica\n",
    "plt.show()"
   ]
  },
  {
   "cell_type": "markdown",
   "metadata": {},
   "source": [
    "### Conclusiones\n",
    "\n",
    "Se ve claramente en las graficas que predominan las reviews positivas por sobre las negativas, conmparandola con una distribucion normal. Esto podria deberse a varios factores:\n",
    "\n",
    "* Los usuarios podrían dar reviews de juegos que les han gustado, sobre los que no.\n",
    "* Los juegos están cuidadosamente desarrollados y proporcionan entretenimiento a la mayoria de usuarios.\n",
    "* El sistema de recomendaciones vigente de Steam funciona eficazmente, generando reviews positivas.\n",
    "* Steam dispone de un filtro de juegos que garantiza que únicamente los desarrolladores que cumplen con ciertos estándares puedan publicar sus juegos en la plataforma, evitando así la presencia de contenido de baja calidad."
   ]
  }
 ],
 "metadata": {
  "kernelspec": {
   "display_name": "entorno_virtual",
   "language": "python",
   "name": "python3"
  },
  "language_info": {
   "codemirror_mode": {
    "name": "ipython",
    "version": 3
   },
   "file_extension": ".py",
   "mimetype": "text/x-python",
   "name": "python",
   "nbconvert_exporter": "python",
   "pygments_lexer": "ipython3",
   "version": "3.11.6"
  }
 },
 "nbformat": 4,
 "nbformat_minor": 2
}
